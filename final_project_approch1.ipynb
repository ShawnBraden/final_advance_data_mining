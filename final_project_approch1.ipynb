{
 "cells": [
  {
   "cell_type": "code",
   "execution_count": 23,
   "metadata": {},
   "outputs": [],
   "source": [
    "import pandas as pd\n",
    "import networkx as nx\n",
    "import matplotlib.pyplot as plt\n",
    "from itertools import combinations\n",
    "from node2vec import Node2Vec\n",
    "import numpy as np\n"
   ]
  },
  {
   "cell_type": "code",
   "execution_count": 2,
   "metadata": {},
   "outputs": [
    {
     "name": "stdout",
     "output_type": "stream",
     "text": [
      "Index(['id', 'version', 'set_num'], dtype='object')\n",
      "Index(['inventory_id', 'part_num', 'color_id', 'quantity', 'is_spare'], dtype='object')\n",
      "Index(['inventory_id', 'set_num', 'quantity'], dtype='object')\n",
      "Index(['id', 'name'], dtype='object')\n",
      "Index(['set_num', 'name', 'year', 'theme_id', 'num_parts'], dtype='object')\n",
      "Index(['id', 'name', 'parent_id'], dtype='object')\n",
      "Index(['id', 'name', 'rgb', 'is_trans'], dtype='object')\n"
     ]
    }
   ],
   "source": [
    "inventories = pd.read_csv('inventories.csv')\n",
    "inventory_parts = pd.read_csv('inventory_parts.csv')\n",
    "inventory_sets = pd.read_csv('inventory_sets.csv')\n",
    "part_categories = pd.read_csv('part_categories.csv')\n",
    "parts = pd.read_csv('parts.csv')\n",
    "sets = pd.read_csv('sets.csv')\n",
    "themes = pd.read_csv('themes.csv')\n",
    "colors = pd.read_csv('colors.csv')\n",
    "\n",
    "print(inventories.columns)\n",
    "print(inventory_parts.columns)\n",
    "print(inventory_sets.columns)\n",
    "print(part_categories.columns)\n",
    "print(sets.columns)\n",
    "print(themes.columns)\n",
    "print(colors.columns)"
   ]
  },
  {
   "cell_type": "code",
   "execution_count": 3,
   "metadata": {},
   "outputs": [
    {
     "data": {
      "application/vnd.microsoft.datawrangler.viewer.v0+json": {
       "columns": [
        {
         "name": "index",
         "rawType": "int64",
         "type": "integer"
        },
        {
         "name": "id",
         "rawType": "int64",
         "type": "integer"
        },
        {
         "name": "version",
         "rawType": "int64",
         "type": "integer"
        },
        {
         "name": "set_num",
         "rawType": "object",
         "type": "string"
        }
       ],
       "conversionMethod": "pd.DataFrame",
       "ref": "44a94cd2-6772-4860-af13-7a5efc13c1e0",
       "rows": [
        [
         "0",
         "1",
         "1",
         "7922-1"
        ],
        [
         "1",
         "3",
         "1",
         "3931-1"
        ],
        [
         "2",
         "4",
         "1",
         "6942-1"
        ],
        [
         "3",
         "15",
         "1",
         "5158-1"
        ],
        [
         "4",
         "16",
         "1",
         "903-1"
        ],
        [
         "5",
         "17",
         "1",
         "850950-1"
        ],
        [
         "6",
         "19",
         "1",
         "4444-1"
        ],
        [
         "7",
         "21",
         "1",
         "3474-1"
        ],
        [
         "8",
         "22",
         "1",
         "30277-1"
        ],
        [
         "9",
         "25",
         "1",
         "71012-11"
        ],
        [
         "10",
         "26",
         "1",
         "6435-1"
        ],
        [
         "11",
         "27",
         "1",
         "3055-1"
        ],
        [
         "12",
         "28",
         "1",
         "7899-1"
        ],
        [
         "13",
         "29",
         "1",
         "1076-3"
        ],
        [
         "14",
         "30",
         "1",
         "40107-1"
        ],
        [
         "15",
         "31",
         "1",
         "14-4"
        ],
        [
         "16",
         "32",
         "1",
         "4024-21"
        ],
        [
         "17",
         "33",
         "1",
         "6356-1"
        ],
        [
         "18",
         "34",
         "1",
         "71017-20"
        ],
        [
         "19",
         "35",
         "1",
         "5004559-1"
        ],
        [
         "20",
         "36",
         "1",
         "1756-1"
        ],
        [
         "21",
         "37",
         "1",
         "8931-1"
        ],
        [
         "22",
         "38",
         "1",
         "9385-1"
        ],
        [
         "23",
         "39",
         "1",
         "66512-1"
        ],
        [
         "24",
         "40",
         "1",
         "6963-1"
        ],
        [
         "25",
         "42",
         "1",
         "850760-1"
        ],
        [
         "26",
         "43",
         "1",
         "2000424-1"
        ],
        [
         "27",
         "45",
         "1",
         "40109-1"
        ],
        [
         "28",
         "49",
         "1",
         "10071-1"
        ],
        [
         "29",
         "50",
         "1",
         "K4520-1"
        ],
        [
         "30",
         "51",
         "1",
         "7904-22"
        ],
        [
         "31",
         "52",
         "1",
         "6378-1"
        ],
        [
         "32",
         "54",
         "1",
         "4284-1"
        ],
        [
         "33",
         "55",
         "1",
         "6711-1"
        ],
        [
         "34",
         "56",
         "1",
         "4768-2"
        ],
        [
         "35",
         "58",
         "1",
         "75060-1"
        ],
        [
         "36",
         "60",
         "1",
         "1390-1"
        ],
        [
         "37",
         "61",
         "1",
         "10128-1"
        ],
        [
         "38",
         "62",
         "1",
         "30300-1"
        ],
        [
         "39",
         "63",
         "1",
         "6981-1"
        ],
        [
         "40",
         "64",
         "1",
         "6424-1"
        ],
        [
         "41",
         "65",
         "1",
         "5920-1"
        ],
        [
         "42",
         "67",
         "1",
         "6577-1"
        ],
        [
         "43",
         "68",
         "1",
         "8103-1"
        ],
        [
         "44",
         "69",
         "1",
         "2850829-1"
        ],
        [
         "45",
         "70",
         "1",
         "483-5"
        ],
        [
         "46",
         "71",
         "1",
         "K7690-1"
        ],
        [
         "47",
         "73",
         "1",
         "70812-1"
        ],
        [
         "48",
         "74",
         "1",
         "6913-1"
        ],
        [
         "49",
         "76",
         "1",
         "10189-1"
        ]
       ],
       "shape": {
        "columns": 3,
        "rows": 11681
       }
      },
      "text/html": [
       "<div>\n",
       "<style scoped>\n",
       "    .dataframe tbody tr th:only-of-type {\n",
       "        vertical-align: middle;\n",
       "    }\n",
       "\n",
       "    .dataframe tbody tr th {\n",
       "        vertical-align: top;\n",
       "    }\n",
       "\n",
       "    .dataframe thead th {\n",
       "        text-align: right;\n",
       "    }\n",
       "</style>\n",
       "<table border=\"1\" class=\"dataframe\">\n",
       "  <thead>\n",
       "    <tr style=\"text-align: right;\">\n",
       "      <th></th>\n",
       "      <th>id</th>\n",
       "      <th>version</th>\n",
       "      <th>set_num</th>\n",
       "    </tr>\n",
       "  </thead>\n",
       "  <tbody>\n",
       "    <tr>\n",
       "      <th>0</th>\n",
       "      <td>1</td>\n",
       "      <td>1</td>\n",
       "      <td>7922-1</td>\n",
       "    </tr>\n",
       "    <tr>\n",
       "      <th>1</th>\n",
       "      <td>3</td>\n",
       "      <td>1</td>\n",
       "      <td>3931-1</td>\n",
       "    </tr>\n",
       "    <tr>\n",
       "      <th>2</th>\n",
       "      <td>4</td>\n",
       "      <td>1</td>\n",
       "      <td>6942-1</td>\n",
       "    </tr>\n",
       "    <tr>\n",
       "      <th>3</th>\n",
       "      <td>15</td>\n",
       "      <td>1</td>\n",
       "      <td>5158-1</td>\n",
       "    </tr>\n",
       "    <tr>\n",
       "      <th>4</th>\n",
       "      <td>16</td>\n",
       "      <td>1</td>\n",
       "      <td>903-1</td>\n",
       "    </tr>\n",
       "    <tr>\n",
       "      <th>...</th>\n",
       "      <td>...</td>\n",
       "      <td>...</td>\n",
       "      <td>...</td>\n",
       "    </tr>\n",
       "    <tr>\n",
       "      <th>11676</th>\n",
       "      <td>18593</td>\n",
       "      <td>1</td>\n",
       "      <td>31066-1</td>\n",
       "    </tr>\n",
       "    <tr>\n",
       "      <th>11677</th>\n",
       "      <td>18645</td>\n",
       "      <td>1</td>\n",
       "      <td>71018-7</td>\n",
       "    </tr>\n",
       "    <tr>\n",
       "      <th>11678</th>\n",
       "      <td>18701</td>\n",
       "      <td>1</td>\n",
       "      <td>71018-17</td>\n",
       "    </tr>\n",
       "    <tr>\n",
       "      <th>11679</th>\n",
       "      <td>18704</td>\n",
       "      <td>1</td>\n",
       "      <td>60159-1</td>\n",
       "    </tr>\n",
       "    <tr>\n",
       "      <th>11680</th>\n",
       "      <td>18708</td>\n",
       "      <td>1</td>\n",
       "      <td>75090-2</td>\n",
       "    </tr>\n",
       "  </tbody>\n",
       "</table>\n",
       "<p>11681 rows × 3 columns</p>\n",
       "</div>"
      ],
      "text/plain": [
       "          id  version   set_num\n",
       "0          1        1    7922-1\n",
       "1          3        1    3931-1\n",
       "2          4        1    6942-1\n",
       "3         15        1    5158-1\n",
       "4         16        1     903-1\n",
       "...      ...      ...       ...\n",
       "11676  18593        1   31066-1\n",
       "11677  18645        1   71018-7\n",
       "11678  18701        1  71018-17\n",
       "11679  18704        1   60159-1\n",
       "11680  18708        1   75090-2\n",
       "\n",
       "[11681 rows x 3 columns]"
      ]
     },
     "execution_count": 3,
     "metadata": {},
     "output_type": "execute_result"
    }
   ],
   "source": [
    "inventories"
   ]
  },
  {
   "cell_type": "code",
   "execution_count": 4,
   "metadata": {},
   "outputs": [
    {
     "data": {
      "application/vnd.microsoft.datawrangler.viewer.v0+json": {
       "columns": [
        {
         "name": "index",
         "rawType": "int64",
         "type": "integer"
        },
        {
         "name": "inventory_id",
         "rawType": "int64",
         "type": "integer"
        },
        {
         "name": "part_num",
         "rawType": "object",
         "type": "string"
        },
        {
         "name": "color_id",
         "rawType": "int64",
         "type": "integer"
        },
        {
         "name": "quantity",
         "rawType": "int64",
         "type": "integer"
        },
        {
         "name": "is_spare",
         "rawType": "object",
         "type": "string"
        }
       ],
       "conversionMethod": "pd.DataFrame",
       "ref": "35f54d68-401a-4a82-9bbd-e547fc5a3e85",
       "rows": [
        [
         "0",
         "1",
         "48379c01",
         "72",
         "1",
         "f"
        ],
        [
         "1",
         "1",
         "48395",
         "7",
         "1",
         "f"
        ],
        [
         "2",
         "1",
         "mcsport6",
         "25",
         "1",
         "f"
        ],
        [
         "3",
         "1",
         "paddle",
         "0",
         "1",
         "f"
        ],
        [
         "4",
         "3",
         "11816pr0005",
         "78",
         "1",
         "f"
        ],
        [
         "5",
         "3",
         "2343",
         "47",
         "1",
         "f"
        ],
        [
         "6",
         "3",
         "3003",
         "29",
         "1",
         "f"
        ],
        [
         "7",
         "3",
         "30176",
         "2",
         "1",
         "f"
        ],
        [
         "8",
         "3",
         "3020",
         "15",
         "1",
         "f"
        ],
        [
         "9",
         "3",
         "3022",
         "15",
         "2",
         "f"
        ],
        [
         "10",
         "3",
         "3023",
         "15",
         "1",
         "f"
        ],
        [
         "11",
         "3",
         "30357",
         "29",
         "4",
         "f"
        ],
        [
         "12",
         "3",
         "3039",
         "15",
         "1",
         "f"
        ],
        [
         "13",
         "3",
         "3062b",
         "15",
         "1",
         "f"
        ],
        [
         "14",
         "3",
         "3068b",
         "29",
         "1",
         "f"
        ],
        [
         "15",
         "3",
         "3069b",
         "29",
         "2",
         "f"
        ],
        [
         "16",
         "3",
         "3069b",
         "27",
         "5",
         "f"
        ],
        [
         "17",
         "3",
         "33291",
         "191",
         "3",
         "f"
        ],
        [
         "18",
         "3",
         "33291",
         "191",
         "1",
         "t"
        ],
        [
         "19",
         "3",
         "3795",
         "15",
         "1",
         "f"
        ],
        [
         "20",
         "3",
         "3941",
         "27",
         "1",
         "f"
        ],
        [
         "21",
         "3",
         "3960",
         "27",
         "1",
         "f"
        ],
        [
         "22",
         "3",
         "4032a",
         "70",
         "1",
         "f"
        ],
        [
         "23",
         "3",
         "4865a",
         "41",
         "3",
         "f"
        ],
        [
         "24",
         "3",
         "6141",
         "27",
         "2",
         "f"
        ],
        [
         "25",
         "3",
         "6141",
         "29",
         "1",
         "f"
        ],
        [
         "26",
         "3",
         "6141",
         "27",
         "1",
         "t"
        ],
        [
         "27",
         "3",
         "6141",
         "29",
         "1",
         "t"
        ],
        [
         "28",
         "3",
         "63965",
         "15",
         "1",
         "f"
        ],
        [
         "29",
         "3",
         "85080",
         "322",
         "4",
         "f"
        ],
        [
         "30",
         "3",
         "92258",
         "0",
         "1",
         "f"
        ],
        [
         "31",
         "3",
         "92456pr0011c01",
         "78",
         "1",
         "f"
        ],
        [
         "32",
         "3",
         "92818pr0002c01",
         "26",
         "1",
         "f"
        ],
        [
         "33",
         "4",
         "30214",
         "34",
         "1",
         "f"
        ],
        [
         "34",
         "4",
         "3069bp53",
         "0",
         "1",
         "f"
        ],
        [
         "35",
         "4",
         "3298pb005",
         "8",
         "1",
         "f"
        ],
        [
         "36",
         "4",
         "3475b",
         "1",
         "2",
         "f"
        ],
        [
         "37",
         "4",
         "3626bpx175",
         "8",
         "1",
         "f"
        ],
        [
         "38",
         "4",
         "3795",
         "0",
         "1",
         "f"
        ],
        [
         "39",
         "4",
         "4589",
         "42",
         "2",
         "f"
        ],
        [
         "40",
         "4",
         "4590",
         "1",
         "3",
         "f"
        ],
        [
         "41",
         "4",
         "4596",
         "0",
         "1",
         "f"
        ],
        [
         "42",
         "4",
         "4598",
         "8",
         "1",
         "f"
        ],
        [
         "43",
         "4",
         "4740",
         "42",
         "1",
         "f"
        ],
        [
         "44",
         "4",
         "6141",
         "42",
         "1",
         "t"
        ],
        [
         "45",
         "4",
         "6141",
         "42",
         "1",
         "f"
        ],
        [
         "46",
         "4",
         "6919",
         "42",
         "2",
         "f"
        ],
        [
         "47",
         "4",
         "970x027",
         "0",
         "1",
         "f"
        ],
        [
         "48",
         "4",
         "973pb0037c01",
         "8",
         "1",
         "f"
        ],
        [
         "49",
         "15",
         "2360p02",
         "2",
         "1",
         "f"
        ]
       ],
       "shape": {
        "columns": 5,
        "rows": 580251
       }
      },
      "text/html": [
       "<div>\n",
       "<style scoped>\n",
       "    .dataframe tbody tr th:only-of-type {\n",
       "        vertical-align: middle;\n",
       "    }\n",
       "\n",
       "    .dataframe tbody tr th {\n",
       "        vertical-align: top;\n",
       "    }\n",
       "\n",
       "    .dataframe thead th {\n",
       "        text-align: right;\n",
       "    }\n",
       "</style>\n",
       "<table border=\"1\" class=\"dataframe\">\n",
       "  <thead>\n",
       "    <tr style=\"text-align: right;\">\n",
       "      <th></th>\n",
       "      <th>inventory_id</th>\n",
       "      <th>part_num</th>\n",
       "      <th>color_id</th>\n",
       "      <th>quantity</th>\n",
       "      <th>is_spare</th>\n",
       "    </tr>\n",
       "  </thead>\n",
       "  <tbody>\n",
       "    <tr>\n",
       "      <th>0</th>\n",
       "      <td>1</td>\n",
       "      <td>48379c01</td>\n",
       "      <td>72</td>\n",
       "      <td>1</td>\n",
       "      <td>f</td>\n",
       "    </tr>\n",
       "    <tr>\n",
       "      <th>1</th>\n",
       "      <td>1</td>\n",
       "      <td>48395</td>\n",
       "      <td>7</td>\n",
       "      <td>1</td>\n",
       "      <td>f</td>\n",
       "    </tr>\n",
       "    <tr>\n",
       "      <th>2</th>\n",
       "      <td>1</td>\n",
       "      <td>mcsport6</td>\n",
       "      <td>25</td>\n",
       "      <td>1</td>\n",
       "      <td>f</td>\n",
       "    </tr>\n",
       "    <tr>\n",
       "      <th>3</th>\n",
       "      <td>1</td>\n",
       "      <td>paddle</td>\n",
       "      <td>0</td>\n",
       "      <td>1</td>\n",
       "      <td>f</td>\n",
       "    </tr>\n",
       "    <tr>\n",
       "      <th>4</th>\n",
       "      <td>3</td>\n",
       "      <td>11816pr0005</td>\n",
       "      <td>78</td>\n",
       "      <td>1</td>\n",
       "      <td>f</td>\n",
       "    </tr>\n",
       "    <tr>\n",
       "      <th>...</th>\n",
       "      <td>...</td>\n",
       "      <td>...</td>\n",
       "      <td>...</td>\n",
       "      <td>...</td>\n",
       "      <td>...</td>\n",
       "    </tr>\n",
       "    <tr>\n",
       "      <th>580246</th>\n",
       "      <td>18708</td>\n",
       "      <td>99206</td>\n",
       "      <td>0</td>\n",
       "      <td>3</td>\n",
       "      <td>f</td>\n",
       "    </tr>\n",
       "    <tr>\n",
       "      <th>580247</th>\n",
       "      <td>18708</td>\n",
       "      <td>99207</td>\n",
       "      <td>71</td>\n",
       "      <td>4</td>\n",
       "      <td>f</td>\n",
       "    </tr>\n",
       "    <tr>\n",
       "      <th>580248</th>\n",
       "      <td>18708</td>\n",
       "      <td>99780</td>\n",
       "      <td>15</td>\n",
       "      <td>4</td>\n",
       "      <td>f</td>\n",
       "    </tr>\n",
       "    <tr>\n",
       "      <th>580249</th>\n",
       "      <td>18708</td>\n",
       "      <td>99780</td>\n",
       "      <td>0</td>\n",
       "      <td>9</td>\n",
       "      <td>f</td>\n",
       "    </tr>\n",
       "    <tr>\n",
       "      <th>580250</th>\n",
       "      <td>18708</td>\n",
       "      <td>99780</td>\n",
       "      <td>72</td>\n",
       "      <td>5</td>\n",
       "      <td>f</td>\n",
       "    </tr>\n",
       "  </tbody>\n",
       "</table>\n",
       "<p>580251 rows × 5 columns</p>\n",
       "</div>"
      ],
      "text/plain": [
       "        inventory_id     part_num  color_id  quantity is_spare\n",
       "0                  1     48379c01        72         1        f\n",
       "1                  1        48395         7         1        f\n",
       "2                  1     mcsport6        25         1        f\n",
       "3                  1       paddle         0         1        f\n",
       "4                  3  11816pr0005        78         1        f\n",
       "...              ...          ...       ...       ...      ...\n",
       "580246         18708        99206         0         3        f\n",
       "580247         18708        99207        71         4        f\n",
       "580248         18708        99780        15         4        f\n",
       "580249         18708        99780         0         9        f\n",
       "580250         18708        99780        72         5        f\n",
       "\n",
       "[580251 rows x 5 columns]"
      ]
     },
     "execution_count": 4,
     "metadata": {},
     "output_type": "execute_result"
    }
   ],
   "source": [
    "inventory_parts"
   ]
  },
  {
   "cell_type": "code",
   "execution_count": 16,
   "metadata": {},
   "outputs": [
    {
     "data": {
      "application/vnd.microsoft.datawrangler.viewer.v0+json": {
       "columns": [
        {
         "name": "index",
         "rawType": "int64",
         "type": "integer"
        },
        {
         "name": "inventory_id",
         "rawType": "int64",
         "type": "integer"
        },
        {
         "name": "set_num",
         "rawType": "object",
         "type": "string"
        },
        {
         "name": "quantity",
         "rawType": "int64",
         "type": "integer"
        }
       ],
       "conversionMethod": "pd.DataFrame",
       "ref": "8ff16ac5-3efc-4f27-af0d-00db71a702c4",
       "rows": [
        [
         "0",
         "35",
         "75911-1",
         "1"
        ],
        [
         "1",
         "35",
         "75912-1",
         "1"
        ],
        [
         "2",
         "39",
         "75048-1",
         "1"
        ],
        [
         "3",
         "39",
         "75053-1",
         "1"
        ],
        [
         "4",
         "50",
         "4515-1",
         "1"
        ],
        [
         "5",
         "50",
         "4520-1",
         "2"
        ],
        [
         "6",
         "50",
         "4531-1",
         "1"
        ],
        [
         "7",
         "71",
         "7690-1",
         "1"
        ],
        [
         "8",
         "71",
         "7691-1",
         "1"
        ],
        [
         "9",
         "71",
         "7692-1",
         "1"
        ],
        [
         "10",
         "71",
         "7693-1",
         "1"
        ],
        [
         "11",
         "71",
         "7694-1",
         "1"
        ],
        [
         "12",
         "71",
         "7695-1",
         "1"
        ],
        [
         "13",
         "71",
         "7697-1",
         "1"
        ],
        [
         "14",
         "81",
         "8451-1",
         "1"
        ],
        [
         "15",
         "81",
         "8453-1",
         "1"
        ],
        [
         "16",
         "87",
         "10233-1",
         "1"
        ],
        [
         "17",
         "87",
         "88002-1",
         "1"
        ],
        [
         "18",
         "87",
         "8870-1",
         "1"
        ],
        [
         "19",
         "87",
         "8878-1",
         "1"
        ],
        [
         "20",
         "87",
         "8879-1",
         "1"
        ],
        [
         "21",
         "87",
         "8884-1",
         "1"
        ],
        [
         "22",
         "104",
         "4103-1",
         "1"
        ],
        [
         "23",
         "104",
         "4782-1",
         "1"
        ],
        [
         "24",
         "122",
         "7238-1",
         "1"
        ],
        [
         "25",
         "122",
         "7890-1",
         "1"
        ],
        [
         "26",
         "122",
         "7944-1",
         "1"
        ],
        [
         "27",
         "131",
         "7634-1",
         "1"
        ],
        [
         "28",
         "131",
         "7635-1",
         "1"
        ],
        [
         "29",
         "131",
         "7684-1",
         "1"
        ],
        [
         "30",
         "251",
         "3886-2",
         "1"
        ],
        [
         "31",
         "263",
         "7575-10",
         "1"
        ],
        [
         "32",
         "263",
         "7575-11",
         "1"
        ],
        [
         "33",
         "263",
         "7575-12",
         "1"
        ],
        [
         "34",
         "263",
         "7575-13",
         "1"
        ],
        [
         "35",
         "263",
         "7575-14",
         "1"
        ],
        [
         "36",
         "263",
         "7575-15",
         "1"
        ],
        [
         "37",
         "263",
         "7575-16",
         "1"
        ],
        [
         "38",
         "263",
         "7575-17",
         "1"
        ],
        [
         "39",
         "263",
         "7575-18",
         "1"
        ],
        [
         "40",
         "263",
         "7575-19",
         "1"
        ],
        [
         "41",
         "263",
         "7575-2",
         "1"
        ],
        [
         "42",
         "263",
         "7575-20",
         "1"
        ],
        [
         "43",
         "263",
         "7575-21",
         "1"
        ],
        [
         "44",
         "263",
         "7575-22",
         "1"
        ],
        [
         "45",
         "263",
         "7575-23",
         "1"
        ],
        [
         "46",
         "263",
         "7575-24",
         "1"
        ],
        [
         "47",
         "263",
         "7575-25",
         "1"
        ],
        [
         "48",
         "263",
         "7575-3",
         "1"
        ],
        [
         "49",
         "263",
         "7575-4",
         "1"
        ]
       ],
       "shape": {
        "columns": 3,
        "rows": 2846
       }
      },
      "text/html": [
       "<div>\n",
       "<style scoped>\n",
       "    .dataframe tbody tr th:only-of-type {\n",
       "        vertical-align: middle;\n",
       "    }\n",
       "\n",
       "    .dataframe tbody tr th {\n",
       "        vertical-align: top;\n",
       "    }\n",
       "\n",
       "    .dataframe thead th {\n",
       "        text-align: right;\n",
       "    }\n",
       "</style>\n",
       "<table border=\"1\" class=\"dataframe\">\n",
       "  <thead>\n",
       "    <tr style=\"text-align: right;\">\n",
       "      <th></th>\n",
       "      <th>inventory_id</th>\n",
       "      <th>set_num</th>\n",
       "      <th>quantity</th>\n",
       "    </tr>\n",
       "  </thead>\n",
       "  <tbody>\n",
       "    <tr>\n",
       "      <th>0</th>\n",
       "      <td>35</td>\n",
       "      <td>75911-1</td>\n",
       "      <td>1</td>\n",
       "    </tr>\n",
       "    <tr>\n",
       "      <th>1</th>\n",
       "      <td>35</td>\n",
       "      <td>75912-1</td>\n",
       "      <td>1</td>\n",
       "    </tr>\n",
       "    <tr>\n",
       "      <th>2</th>\n",
       "      <td>39</td>\n",
       "      <td>75048-1</td>\n",
       "      <td>1</td>\n",
       "    </tr>\n",
       "    <tr>\n",
       "      <th>3</th>\n",
       "      <td>39</td>\n",
       "      <td>75053-1</td>\n",
       "      <td>1</td>\n",
       "    </tr>\n",
       "    <tr>\n",
       "      <th>4</th>\n",
       "      <td>50</td>\n",
       "      <td>4515-1</td>\n",
       "      <td>1</td>\n",
       "    </tr>\n",
       "    <tr>\n",
       "      <th>...</th>\n",
       "      <td>...</td>\n",
       "      <td>...</td>\n",
       "      <td>...</td>\n",
       "    </tr>\n",
       "    <tr>\n",
       "      <th>2841</th>\n",
       "      <td>18701</td>\n",
       "      <td>71018-5</td>\n",
       "      <td>1</td>\n",
       "    </tr>\n",
       "    <tr>\n",
       "      <th>2842</th>\n",
       "      <td>18701</td>\n",
       "      <td>71018-6</td>\n",
       "      <td>1</td>\n",
       "    </tr>\n",
       "    <tr>\n",
       "      <th>2843</th>\n",
       "      <td>18701</td>\n",
       "      <td>71018-7</td>\n",
       "      <td>1</td>\n",
       "    </tr>\n",
       "    <tr>\n",
       "      <th>2844</th>\n",
       "      <td>18701</td>\n",
       "      <td>71018-8</td>\n",
       "      <td>1</td>\n",
       "    </tr>\n",
       "    <tr>\n",
       "      <th>2845</th>\n",
       "      <td>18701</td>\n",
       "      <td>71018-9</td>\n",
       "      <td>1</td>\n",
       "    </tr>\n",
       "  </tbody>\n",
       "</table>\n",
       "<p>2846 rows × 3 columns</p>\n",
       "</div>"
      ],
      "text/plain": [
       "      inventory_id  set_num  quantity\n",
       "0               35  75911-1         1\n",
       "1               35  75912-1         1\n",
       "2               39  75048-1         1\n",
       "3               39  75053-1         1\n",
       "4               50   4515-1         1\n",
       "...            ...      ...       ...\n",
       "2841         18701  71018-5         1\n",
       "2842         18701  71018-6         1\n",
       "2843         18701  71018-7         1\n",
       "2844         18701  71018-8         1\n",
       "2845         18701  71018-9         1\n",
       "\n",
       "[2846 rows x 3 columns]"
      ]
     },
     "execution_count": 16,
     "metadata": {},
     "output_type": "execute_result"
    }
   ],
   "source": [
    "inventory_sets"
   ]
  },
  {
   "cell_type": "code",
   "execution_count": 17,
   "metadata": {},
   "outputs": [
    {
     "data": {
      "application/vnd.microsoft.datawrangler.viewer.v0+json": {
       "columns": [
        {
         "name": "index",
         "rawType": "int64",
         "type": "integer"
        },
        {
         "name": "id",
         "rawType": "int64",
         "type": "integer"
        },
        {
         "name": "name",
         "rawType": "object",
         "type": "string"
        }
       ],
       "conversionMethod": "pd.DataFrame",
       "ref": "4c5bde57-4f92-4d09-93a2-608eaa3f4a55",
       "rows": [
        [
         "0",
         "1",
         "Baseplates"
        ],
        [
         "1",
         "2",
         "Bricks Printed"
        ],
        [
         "2",
         "3",
         "Bricks Sloped"
        ],
        [
         "3",
         "4",
         "Duplo, Quatro and Primo"
        ],
        [
         "4",
         "5",
         "Bricks Special"
        ],
        [
         "5",
         "6",
         "Bricks Wedged"
        ],
        [
         "6",
         "7",
         "Containers"
        ],
        [
         "7",
         "8",
         "Technic Bricks"
        ],
        [
         "8",
         "9",
         "Plates Special"
        ],
        [
         "9",
         "10",
         "Tiles Printed"
        ],
        [
         "10",
         "11",
         "Bricks"
        ],
        [
         "11",
         "12",
         "Technic Connectors"
        ],
        [
         "12",
         "13",
         "Minifigs"
        ],
        [
         "13",
         "14",
         "Plates"
        ],
        [
         "14",
         "15",
         "Tiles Special"
        ],
        [
         "15",
         "16",
         "Windows and Doors"
        ],
        [
         "16",
         "17",
         "Non-LEGO"
        ],
        [
         "17",
         "18",
         "Hinges, Arms and Turntables"
        ],
        [
         "18",
         "19",
         "Tiles"
        ],
        [
         "19",
         "20",
         "Bricks Round and Cones"
        ],
        [
         "20",
         "21",
         "Plates Round and Dishes"
        ],
        [
         "21",
         "22",
         "Pneumatics"
        ],
        [
         "22",
         "23",
         "Panels"
        ],
        [
         "23",
         "24",
         "Other"
        ],
        [
         "24",
         "25",
         "Technic Steering, Suspension and Engine"
        ],
        [
         "25",
         "26",
         "Technic Special"
        ],
        [
         "26",
         "27",
         "Minifig Accessories"
        ],
        [
         "27",
         "28",
         "Plants and Animals"
        ],
        [
         "28",
         "29",
         "Wheels and Tyres"
        ],
        [
         "29",
         "30",
         "Tubes and Hoses"
        ],
        [
         "30",
         "31",
         "String, Bands and Reels"
        ],
        [
         "31",
         "32",
         "Bars, Ladders and Fences"
        ],
        [
         "32",
         "33",
         "Rock"
        ],
        [
         "33",
         "34",
         "Supports, Girders and Cranes"
        ],
        [
         "34",
         "35",
         "Transportation - Sea and Air"
        ],
        [
         "35",
         "36",
         "Transportation - Land"
        ],
        [
         "36",
         "37",
         "Bricks Curved"
        ],
        [
         "37",
         "38",
         "Flags, Signs, Plastics and Cloth"
        ],
        [
         "38",
         "39",
         "Magnets and Holders"
        ],
        [
         "39",
         "40",
         "Technic Panels"
        ],
        [
         "40",
         "41",
         "Bionicle, Hero Factory and Constraction"
        ],
        [
         "41",
         "42",
         "Belville, Scala and Fabuland"
        ],
        [
         "42",
         "43",
         "Znap"
        ],
        [
         "43",
         "44",
         "Mechanical"
        ],
        [
         "44",
         "45",
         "Power Functions, Mindstorms and Electric"
        ],
        [
         "45",
         "46",
         "Technic Axles"
        ],
        [
         "46",
         "47",
         "Windscreens and Fuselage"
        ],
        [
         "47",
         "48",
         "Clikits"
        ],
        [
         "48",
         "49",
         "Plates Angled"
        ],
        [
         "49",
         "50",
         "HO Scale"
        ]
       ],
       "shape": {
        "columns": 2,
        "rows": 57
       }
      },
      "text/html": [
       "<div>\n",
       "<style scoped>\n",
       "    .dataframe tbody tr th:only-of-type {\n",
       "        vertical-align: middle;\n",
       "    }\n",
       "\n",
       "    .dataframe tbody tr th {\n",
       "        vertical-align: top;\n",
       "    }\n",
       "\n",
       "    .dataframe thead th {\n",
       "        text-align: right;\n",
       "    }\n",
       "</style>\n",
       "<table border=\"1\" class=\"dataframe\">\n",
       "  <thead>\n",
       "    <tr style=\"text-align: right;\">\n",
       "      <th></th>\n",
       "      <th>id</th>\n",
       "      <th>name</th>\n",
       "    </tr>\n",
       "  </thead>\n",
       "  <tbody>\n",
       "    <tr>\n",
       "      <th>0</th>\n",
       "      <td>1</td>\n",
       "      <td>Baseplates</td>\n",
       "    </tr>\n",
       "    <tr>\n",
       "      <th>1</th>\n",
       "      <td>2</td>\n",
       "      <td>Bricks Printed</td>\n",
       "    </tr>\n",
       "    <tr>\n",
       "      <th>2</th>\n",
       "      <td>3</td>\n",
       "      <td>Bricks Sloped</td>\n",
       "    </tr>\n",
       "    <tr>\n",
       "      <th>3</th>\n",
       "      <td>4</td>\n",
       "      <td>Duplo, Quatro and Primo</td>\n",
       "    </tr>\n",
       "    <tr>\n",
       "      <th>4</th>\n",
       "      <td>5</td>\n",
       "      <td>Bricks Special</td>\n",
       "    </tr>\n",
       "    <tr>\n",
       "      <th>5</th>\n",
       "      <td>6</td>\n",
       "      <td>Bricks Wedged</td>\n",
       "    </tr>\n",
       "    <tr>\n",
       "      <th>6</th>\n",
       "      <td>7</td>\n",
       "      <td>Containers</td>\n",
       "    </tr>\n",
       "    <tr>\n",
       "      <th>7</th>\n",
       "      <td>8</td>\n",
       "      <td>Technic Bricks</td>\n",
       "    </tr>\n",
       "    <tr>\n",
       "      <th>8</th>\n",
       "      <td>9</td>\n",
       "      <td>Plates Special</td>\n",
       "    </tr>\n",
       "    <tr>\n",
       "      <th>9</th>\n",
       "      <td>10</td>\n",
       "      <td>Tiles Printed</td>\n",
       "    </tr>\n",
       "    <tr>\n",
       "      <th>10</th>\n",
       "      <td>11</td>\n",
       "      <td>Bricks</td>\n",
       "    </tr>\n",
       "    <tr>\n",
       "      <th>11</th>\n",
       "      <td>12</td>\n",
       "      <td>Technic Connectors</td>\n",
       "    </tr>\n",
       "    <tr>\n",
       "      <th>12</th>\n",
       "      <td>13</td>\n",
       "      <td>Minifigs</td>\n",
       "    </tr>\n",
       "    <tr>\n",
       "      <th>13</th>\n",
       "      <td>14</td>\n",
       "      <td>Plates</td>\n",
       "    </tr>\n",
       "    <tr>\n",
       "      <th>14</th>\n",
       "      <td>15</td>\n",
       "      <td>Tiles Special</td>\n",
       "    </tr>\n",
       "    <tr>\n",
       "      <th>15</th>\n",
       "      <td>16</td>\n",
       "      <td>Windows and Doors</td>\n",
       "    </tr>\n",
       "    <tr>\n",
       "      <th>16</th>\n",
       "      <td>17</td>\n",
       "      <td>Non-LEGO</td>\n",
       "    </tr>\n",
       "    <tr>\n",
       "      <th>17</th>\n",
       "      <td>18</td>\n",
       "      <td>Hinges, Arms and Turntables</td>\n",
       "    </tr>\n",
       "    <tr>\n",
       "      <th>18</th>\n",
       "      <td>19</td>\n",
       "      <td>Tiles</td>\n",
       "    </tr>\n",
       "    <tr>\n",
       "      <th>19</th>\n",
       "      <td>20</td>\n",
       "      <td>Bricks Round and Cones</td>\n",
       "    </tr>\n",
       "    <tr>\n",
       "      <th>20</th>\n",
       "      <td>21</td>\n",
       "      <td>Plates Round and Dishes</td>\n",
       "    </tr>\n",
       "    <tr>\n",
       "      <th>21</th>\n",
       "      <td>22</td>\n",
       "      <td>Pneumatics</td>\n",
       "    </tr>\n",
       "    <tr>\n",
       "      <th>22</th>\n",
       "      <td>23</td>\n",
       "      <td>Panels</td>\n",
       "    </tr>\n",
       "    <tr>\n",
       "      <th>23</th>\n",
       "      <td>24</td>\n",
       "      <td>Other</td>\n",
       "    </tr>\n",
       "    <tr>\n",
       "      <th>24</th>\n",
       "      <td>25</td>\n",
       "      <td>Technic Steering, Suspension and Engine</td>\n",
       "    </tr>\n",
       "    <tr>\n",
       "      <th>25</th>\n",
       "      <td>26</td>\n",
       "      <td>Technic Special</td>\n",
       "    </tr>\n",
       "    <tr>\n",
       "      <th>26</th>\n",
       "      <td>27</td>\n",
       "      <td>Minifig Accessories</td>\n",
       "    </tr>\n",
       "    <tr>\n",
       "      <th>27</th>\n",
       "      <td>28</td>\n",
       "      <td>Plants and Animals</td>\n",
       "    </tr>\n",
       "    <tr>\n",
       "      <th>28</th>\n",
       "      <td>29</td>\n",
       "      <td>Wheels and Tyres</td>\n",
       "    </tr>\n",
       "    <tr>\n",
       "      <th>29</th>\n",
       "      <td>30</td>\n",
       "      <td>Tubes and Hoses</td>\n",
       "    </tr>\n",
       "    <tr>\n",
       "      <th>30</th>\n",
       "      <td>31</td>\n",
       "      <td>String, Bands and Reels</td>\n",
       "    </tr>\n",
       "    <tr>\n",
       "      <th>31</th>\n",
       "      <td>32</td>\n",
       "      <td>Bars, Ladders and Fences</td>\n",
       "    </tr>\n",
       "    <tr>\n",
       "      <th>32</th>\n",
       "      <td>33</td>\n",
       "      <td>Rock</td>\n",
       "    </tr>\n",
       "    <tr>\n",
       "      <th>33</th>\n",
       "      <td>34</td>\n",
       "      <td>Supports, Girders and Cranes</td>\n",
       "    </tr>\n",
       "    <tr>\n",
       "      <th>34</th>\n",
       "      <td>35</td>\n",
       "      <td>Transportation - Sea and Air</td>\n",
       "    </tr>\n",
       "    <tr>\n",
       "      <th>35</th>\n",
       "      <td>36</td>\n",
       "      <td>Transportation - Land</td>\n",
       "    </tr>\n",
       "    <tr>\n",
       "      <th>36</th>\n",
       "      <td>37</td>\n",
       "      <td>Bricks Curved</td>\n",
       "    </tr>\n",
       "    <tr>\n",
       "      <th>37</th>\n",
       "      <td>38</td>\n",
       "      <td>Flags, Signs, Plastics and Cloth</td>\n",
       "    </tr>\n",
       "    <tr>\n",
       "      <th>38</th>\n",
       "      <td>39</td>\n",
       "      <td>Magnets and Holders</td>\n",
       "    </tr>\n",
       "    <tr>\n",
       "      <th>39</th>\n",
       "      <td>40</td>\n",
       "      <td>Technic Panels</td>\n",
       "    </tr>\n",
       "    <tr>\n",
       "      <th>40</th>\n",
       "      <td>41</td>\n",
       "      <td>Bionicle, Hero Factory and Constraction</td>\n",
       "    </tr>\n",
       "    <tr>\n",
       "      <th>41</th>\n",
       "      <td>42</td>\n",
       "      <td>Belville, Scala and Fabuland</td>\n",
       "    </tr>\n",
       "    <tr>\n",
       "      <th>42</th>\n",
       "      <td>43</td>\n",
       "      <td>Znap</td>\n",
       "    </tr>\n",
       "    <tr>\n",
       "      <th>43</th>\n",
       "      <td>44</td>\n",
       "      <td>Mechanical</td>\n",
       "    </tr>\n",
       "    <tr>\n",
       "      <th>44</th>\n",
       "      <td>45</td>\n",
       "      <td>Power Functions, Mindstorms and Electric</td>\n",
       "    </tr>\n",
       "    <tr>\n",
       "      <th>45</th>\n",
       "      <td>46</td>\n",
       "      <td>Technic Axles</td>\n",
       "    </tr>\n",
       "    <tr>\n",
       "      <th>46</th>\n",
       "      <td>47</td>\n",
       "      <td>Windscreens and Fuselage</td>\n",
       "    </tr>\n",
       "    <tr>\n",
       "      <th>47</th>\n",
       "      <td>48</td>\n",
       "      <td>Clikits</td>\n",
       "    </tr>\n",
       "    <tr>\n",
       "      <th>48</th>\n",
       "      <td>49</td>\n",
       "      <td>Plates Angled</td>\n",
       "    </tr>\n",
       "    <tr>\n",
       "      <th>49</th>\n",
       "      <td>50</td>\n",
       "      <td>HO Scale</td>\n",
       "    </tr>\n",
       "    <tr>\n",
       "      <th>50</th>\n",
       "      <td>51</td>\n",
       "      <td>Technic Beams</td>\n",
       "    </tr>\n",
       "    <tr>\n",
       "      <th>51</th>\n",
       "      <td>52</td>\n",
       "      <td>Technic Gears</td>\n",
       "    </tr>\n",
       "    <tr>\n",
       "      <th>52</th>\n",
       "      <td>53</td>\n",
       "      <td>Technic Pins</td>\n",
       "    </tr>\n",
       "    <tr>\n",
       "      <th>53</th>\n",
       "      <td>54</td>\n",
       "      <td>Technic Bushes</td>\n",
       "    </tr>\n",
       "    <tr>\n",
       "      <th>54</th>\n",
       "      <td>55</td>\n",
       "      <td>Technic Beams Special</td>\n",
       "    </tr>\n",
       "    <tr>\n",
       "      <th>55</th>\n",
       "      <td>56</td>\n",
       "      <td>Tools</td>\n",
       "    </tr>\n",
       "    <tr>\n",
       "      <th>56</th>\n",
       "      <td>57</td>\n",
       "      <td>Non-Buildable Figures (Duplo, Fabuland, etc)</td>\n",
       "    </tr>\n",
       "  </tbody>\n",
       "</table>\n",
       "</div>"
      ],
      "text/plain": [
       "    id                                          name\n",
       "0    1                                    Baseplates\n",
       "1    2                                Bricks Printed\n",
       "2    3                                 Bricks Sloped\n",
       "3    4                       Duplo, Quatro and Primo\n",
       "4    5                                Bricks Special\n",
       "5    6                                 Bricks Wedged\n",
       "6    7                                    Containers\n",
       "7    8                                Technic Bricks\n",
       "8    9                                Plates Special\n",
       "9   10                                 Tiles Printed\n",
       "10  11                                        Bricks\n",
       "11  12                            Technic Connectors\n",
       "12  13                                      Minifigs\n",
       "13  14                                        Plates\n",
       "14  15                                 Tiles Special\n",
       "15  16                             Windows and Doors\n",
       "16  17                                      Non-LEGO\n",
       "17  18                   Hinges, Arms and Turntables\n",
       "18  19                                         Tiles\n",
       "19  20                        Bricks Round and Cones\n",
       "20  21                       Plates Round and Dishes\n",
       "21  22                                    Pneumatics\n",
       "22  23                                        Panels\n",
       "23  24                                         Other\n",
       "24  25       Technic Steering, Suspension and Engine\n",
       "25  26                               Technic Special\n",
       "26  27                           Minifig Accessories\n",
       "27  28                            Plants and Animals\n",
       "28  29                              Wheels and Tyres\n",
       "29  30                               Tubes and Hoses\n",
       "30  31                       String, Bands and Reels\n",
       "31  32                      Bars, Ladders and Fences\n",
       "32  33                                          Rock\n",
       "33  34                  Supports, Girders and Cranes\n",
       "34  35                  Transportation - Sea and Air\n",
       "35  36                         Transportation - Land\n",
       "36  37                                 Bricks Curved\n",
       "37  38              Flags, Signs, Plastics and Cloth\n",
       "38  39                           Magnets and Holders\n",
       "39  40                                Technic Panels\n",
       "40  41       Bionicle, Hero Factory and Constraction\n",
       "41  42                  Belville, Scala and Fabuland\n",
       "42  43                                          Znap\n",
       "43  44                                    Mechanical\n",
       "44  45      Power Functions, Mindstorms and Electric\n",
       "45  46                                 Technic Axles\n",
       "46  47                      Windscreens and Fuselage\n",
       "47  48                                       Clikits\n",
       "48  49                                 Plates Angled\n",
       "49  50                                      HO Scale\n",
       "50  51                                 Technic Beams\n",
       "51  52                                 Technic Gears\n",
       "52  53                                  Technic Pins\n",
       "53  54                                Technic Bushes\n",
       "54  55                         Technic Beams Special\n",
       "55  56                                         Tools\n",
       "56  57  Non-Buildable Figures (Duplo, Fabuland, etc)"
      ]
     },
     "execution_count": 17,
     "metadata": {},
     "output_type": "execute_result"
    }
   ],
   "source": [
    "part_categories"
   ]
  },
  {
   "cell_type": "code",
   "execution_count": 18,
   "metadata": {},
   "outputs": [
    {
     "data": {
      "application/vnd.microsoft.datawrangler.viewer.v0+json": {
       "columns": [
        {
         "name": "index",
         "rawType": "int64",
         "type": "integer"
        },
        {
         "name": "part_num",
         "rawType": "object",
         "type": "string"
        },
        {
         "name": "name",
         "rawType": "object",
         "type": "string"
        },
        {
         "name": "part_cat_id",
         "rawType": "int64",
         "type": "integer"
        }
       ],
       "conversionMethod": "pd.DataFrame",
       "ref": "683239ee-7895-41c6-b03f-b1b38974840c",
       "rows": [
        [
         "0",
         "0687b1",
         "Set 0687 Activity Booklet 1",
         "17"
        ],
        [
         "1",
         "0901",
         "Baseplate 16 x 30 with Set 080 Yellow House Print",
         "1"
        ],
        [
         "2",
         "0902",
         "Baseplate 16 x 24 with Set 080 Small White House Print",
         "1"
        ],
        [
         "3",
         "0903",
         "Baseplate 16 x 24 with Set 080 Red House Print",
         "1"
        ],
        [
         "4",
         "0904",
         "Baseplate 16 x 24 with Set 080 Large White House Print",
         "1"
        ],
        [
         "5",
         "1",
         "Homemaker Bookcase 2 x 4 x 4",
         "7"
        ],
        [
         "6",
         "10",
         "Baseplate 24 x 32",
         "1"
        ],
        [
         "7",
         "10016414",
         "Sticker Sheet #1 for 41055-1",
         "17"
        ],
        [
         "8",
         "10019stk01",
         "Sticker for Set 10019 - (43274/4170393)",
         "17"
        ],
        [
         "9",
         "10026stk01",
         "Sticker for Set 10026 - (44942/4184185)",
         "17"
        ],
        [
         "10",
         "10029stk01",
         "Sticker for Set 10029 - (4216816)",
         "17"
        ],
        [
         "11",
         "10036stk01",
         "Sticker for Set 10036 - (821407)",
         "17"
        ],
        [
         "12",
         "10039",
         "Pullback Motor 8 x 4 x 2/3",
         "44"
        ],
        [
         "13",
         "10048",
         "Minifig Hair Tousled",
         "13"
        ],
        [
         "14",
         "10049",
         "Minifig Shield Broad with Spiked Bottom and Cutout Corner",
         "27"
        ],
        [
         "15",
         "10049pr0001",
         "Minifig Shield Broad with Spiked Bottom and Cutout Corner with Handprint Print",
         "27"
        ],
        [
         "16",
         "10050",
         "Minifig Sword [Uruk-hai]",
         "27"
        ],
        [
         "17",
         "10051",
         "Minifig Helmet Castle with Lateral Comb [Uruk-hai]",
         "27"
        ],
        [
         "18",
         "10051pr01",
         "Minifig Helmet Castle with Lateral Comb and Handprint Print",
         "27"
        ],
        [
         "19",
         "10052",
         "Minifig Beard, Rounded End [Gandalf]",
         "27"
        ],
        [
         "20",
         "10053",
         "Minifig Sword Small",
         "27"
        ],
        [
         "21",
         "10054",
         "Minifig Helmet - Rohan Style Castle with Cheek Protection and Horsehead Comb",
         "27"
        ],
        [
         "22",
         "10054pr0001",
         "Minifig Helmet - Rohan Style with Cheek Protection, Horsehead Comb and Eomer Print",
         "27"
        ],
        [
         "23",
         "10054pr0002",
         "Minifig Helmet - Rohan Cheek Protection and Theoden Print",
         "27"
        ],
        [
         "24",
         "10055",
         "Minifig Hair Long Straight with Elf Ears [Plain]",
         "27"
        ],
        [
         "25",
         "10055pr0001",
         "Minifig Hair Long Straight with Light Flesh Elf Ears Print",
         "27"
        ],
        [
         "26",
         "10056",
         "Minifig Helmet Castle with Cheek Protection [Plain]",
         "24"
        ],
        [
         "27",
         "10056pr0001",
         "Minifig Helmet Castle with Cheek Protection and Dark Red Ornaments Print",
         "27"
        ],
        [
         "28",
         "10057",
         "Body / Head Gollum",
         "13"
        ],
        [
         "29",
         "10057pr0001",
         "Body / Head Gollum - Wide Eyes",
         "13"
        ],
        [
         "30",
         "10057pr0002",
         "Body / Head Gollum - Narrow Eyes",
         "13"
        ],
        [
         "31",
         "10058",
         "Arm, Bent [Gollum]",
         "13"
        ],
        [
         "32",
         "10061",
         "Arm Goblin King, Left",
         "13"
        ],
        [
         "33",
         "10062",
         "Hand Cave Troll, Left",
         "13"
        ],
        [
         "34",
         "10063",
         "Arm Goblin King, Right",
         "13"
        ],
        [
         "35",
         "10064",
         "Hand Cave Troll, Right",
         "13"
        ],
        [
         "36",
         "10065",
         "Minifig Beard - Full with Braided Moustache Ends",
         "13"
        ],
        [
         "37",
         "10066",
         "Minifig Hair Orc [Plain]",
         "24"
        ],
        [
         "38",
         "10066pr0001",
         "Minifig Hair Orc with Dark Tan Ears Print",
         "13"
        ],
        [
         "39",
         "10066pr0002",
         "Minifig Hair Orc with Olive Green Ears Print",
         "13"
        ],
        [
         "40",
         "10066pr0003",
         "Minifig Hair Orc with Medium Dark Flesh Ears Print",
         "13"
        ],
        [
         "41",
         "10075cdb01",
         "Paper, Cardboard Backdrop for Set 10075 Spider-Man Action Pack",
         "17"
        ],
        [
         "42",
         "10111",
         "ADULT FIGURE W/HEADSET",
         "4"
        ],
        [
         "43",
         "10111apr0006",
         "ADULT FIGURE W/HEADSET (Yellow) NO. 6",
         "57"
        ],
        [
         "44",
         "10113",
         "Minifig Batman Mask with Angular Ears and Pronounced Brow",
         "13"
        ],
        [
         "45",
         "10113pr0001",
         "MASK, BATMAN, NO. 1 with Bat Print",
         "27"
        ],
        [
         "46",
         "10113pr0002",
         "Mask Batman with Crack Print",
         "27"
        ],
        [
         "47",
         "10119",
         "Duplo Brick 2 x 10 x 2 Arch with Gold Vines with Leaves and 'C' in Shield print",
         "4"
        ],
        [
         "48",
         "10124",
         "Arm Giant, Right",
         "13"
        ],
        [
         "49",
         "10124pr0001",
         "Arm Giant, Right with Blue Darkseid Print",
         "13"
        ]
       ],
       "shape": {
        "columns": 3,
        "rows": 25993
       }
      },
      "text/html": [
       "<div>\n",
       "<style scoped>\n",
       "    .dataframe tbody tr th:only-of-type {\n",
       "        vertical-align: middle;\n",
       "    }\n",
       "\n",
       "    .dataframe tbody tr th {\n",
       "        vertical-align: top;\n",
       "    }\n",
       "\n",
       "    .dataframe thead th {\n",
       "        text-align: right;\n",
       "    }\n",
       "</style>\n",
       "<table border=\"1\" class=\"dataframe\">\n",
       "  <thead>\n",
       "    <tr style=\"text-align: right;\">\n",
       "      <th></th>\n",
       "      <th>part_num</th>\n",
       "      <th>name</th>\n",
       "      <th>part_cat_id</th>\n",
       "    </tr>\n",
       "  </thead>\n",
       "  <tbody>\n",
       "    <tr>\n",
       "      <th>0</th>\n",
       "      <td>0687b1</td>\n",
       "      <td>Set 0687 Activity Booklet 1</td>\n",
       "      <td>17</td>\n",
       "    </tr>\n",
       "    <tr>\n",
       "      <th>1</th>\n",
       "      <td>0901</td>\n",
       "      <td>Baseplate 16 x 30 with Set 080 Yellow House Print</td>\n",
       "      <td>1</td>\n",
       "    </tr>\n",
       "    <tr>\n",
       "      <th>2</th>\n",
       "      <td>0902</td>\n",
       "      <td>Baseplate 16 x 24 with Set 080 Small White Hou...</td>\n",
       "      <td>1</td>\n",
       "    </tr>\n",
       "    <tr>\n",
       "      <th>3</th>\n",
       "      <td>0903</td>\n",
       "      <td>Baseplate 16 x 24 with Set 080 Red House Print</td>\n",
       "      <td>1</td>\n",
       "    </tr>\n",
       "    <tr>\n",
       "      <th>4</th>\n",
       "      <td>0904</td>\n",
       "      <td>Baseplate 16 x 24 with Set 080 Large White Hou...</td>\n",
       "      <td>1</td>\n",
       "    </tr>\n",
       "    <tr>\n",
       "      <th>...</th>\n",
       "      <td>...</td>\n",
       "      <td>...</td>\n",
       "      <td>...</td>\n",
       "    </tr>\n",
       "    <tr>\n",
       "      <th>25988</th>\n",
       "      <td>zbb013</td>\n",
       "      <td>Znap Connector 3 x 3 - 4 way B (Beam)</td>\n",
       "      <td>43</td>\n",
       "    </tr>\n",
       "    <tr>\n",
       "      <th>25989</th>\n",
       "      <td>zbb014</td>\n",
       "      <td>Znap Connector 1 x 3 - 2 way A</td>\n",
       "      <td>43</td>\n",
       "    </tr>\n",
       "    <tr>\n",
       "      <th>25990</th>\n",
       "      <td>zbb015</td>\n",
       "      <td>Znap Beam 3, 1 Hole</td>\n",
       "      <td>43</td>\n",
       "    </tr>\n",
       "    <tr>\n",
       "      <th>25991</th>\n",
       "      <td>zbb018</td>\n",
       "      <td>Znap Connector 3 x 3 - 4 way C (Closed)</td>\n",
       "      <td>43</td>\n",
       "    </tr>\n",
       "    <tr>\n",
       "      <th>25992</th>\n",
       "      <td>zbb022</td>\n",
       "      <td>Wheel 68mm Znap Propeller (9 x 2)</td>\n",
       "      <td>29</td>\n",
       "    </tr>\n",
       "  </tbody>\n",
       "</table>\n",
       "<p>25993 rows × 3 columns</p>\n",
       "</div>"
      ],
      "text/plain": [
       "      part_num                                               name  part_cat_id\n",
       "0       0687b1                        Set 0687 Activity Booklet 1           17\n",
       "1         0901  Baseplate 16 x 30 with Set 080 Yellow House Print            1\n",
       "2         0902  Baseplate 16 x 24 with Set 080 Small White Hou...            1\n",
       "3         0903     Baseplate 16 x 24 with Set 080 Red House Print            1\n",
       "4         0904  Baseplate 16 x 24 with Set 080 Large White Hou...            1\n",
       "...        ...                                                ...          ...\n",
       "25988   zbb013              Znap Connector 3 x 3 - 4 way B (Beam)           43\n",
       "25989   zbb014                     Znap Connector 1 x 3 - 2 way A           43\n",
       "25990   zbb015                                Znap Beam 3, 1 Hole           43\n",
       "25991   zbb018            Znap Connector 3 x 3 - 4 way C (Closed)           43\n",
       "25992   zbb022                  Wheel 68mm Znap Propeller (9 x 2)           29\n",
       "\n",
       "[25993 rows x 3 columns]"
      ]
     },
     "execution_count": 18,
     "metadata": {},
     "output_type": "execute_result"
    }
   ],
   "source": [
    "parts"
   ]
  },
  {
   "cell_type": "code",
   "execution_count": 19,
   "metadata": {},
   "outputs": [
    {
     "data": {
      "application/vnd.microsoft.datawrangler.viewer.v0+json": {
       "columns": [
        {
         "name": "index",
         "rawType": "int64",
         "type": "integer"
        },
        {
         "name": "set_num",
         "rawType": "object",
         "type": "string"
        },
        {
         "name": "name",
         "rawType": "object",
         "type": "string"
        },
        {
         "name": "year",
         "rawType": "int64",
         "type": "integer"
        },
        {
         "name": "theme_id",
         "rawType": "int64",
         "type": "integer"
        },
        {
         "name": "num_parts",
         "rawType": "int64",
         "type": "integer"
        }
       ],
       "conversionMethod": "pd.DataFrame",
       "ref": "0c2ca673-01ac-4d2f-813e-36683403f6b5",
       "rows": [
        [
         "0",
         "00-1",
         "Weetabix Castle",
         "1970",
         "414",
         "471"
        ],
        [
         "1",
         "0011-2",
         "Town Mini-Figures",
         "1978",
         "84",
         "12"
        ],
        [
         "2",
         "0011-3",
         "Castle 2 for 1 Bonus Offer",
         "1987",
         "199",
         "2"
        ],
        [
         "3",
         "0012-1",
         "Space Mini-Figures",
         "1979",
         "143",
         "12"
        ],
        [
         "4",
         "0013-1",
         "Space Mini-Figures",
         "1979",
         "143",
         "12"
        ],
        [
         "5",
         "0014-1",
         "Space Mini-Figures",
         "1979",
         "143",
         "12"
        ],
        [
         "6",
         "0015-1",
         "Space Mini-Figures",
         "1979",
         "143",
         "18"
        ],
        [
         "7",
         "0016-1",
         "Castle Mini Figures",
         "1978",
         "186",
         "15"
        ],
        [
         "8",
         "00-2",
         "Weetabix Promotional House 1",
         "1976",
         "413",
         "147"
        ],
        [
         "9",
         "00-3",
         "Weetabix Promotional House 2",
         "1976",
         "413",
         "149"
        ],
        [
         "10",
         "00-4",
         "Weetabix Promotional Windmill",
         "1976",
         "413",
         "126"
        ],
        [
         "11",
         "005-1",
         "Basic Building Set in Cardboard",
         "1965",
         "366",
         "35"
        ],
        [
         "12",
         "00-6",
         "Special Offer",
         "1985",
         "67",
         "3"
        ],
        [
         "13",
         "00-7",
         "Weetabix Promotional Lego Village",
         "1976",
         "413",
         "3"
        ],
        [
         "14",
         "010-1",
         "Basic Building Set in Cardboard",
         "1965",
         "366",
         "57"
        ],
        [
         "15",
         "010-3",
         "Basic Building Set",
         "1968",
         "366",
         "77"
        ],
        [
         "16",
         "011-1",
         "Basic Building Set",
         "1968",
         "366",
         "145"
        ],
        [
         "17",
         "022-1",
         "Basic Building Set",
         "1968",
         "366",
         "110"
        ],
        [
         "18",
         "03093-1",
         "The Race to Build It Board Game",
         "1999",
         "502",
         "70"
        ],
        [
         "19",
         "033-2",
         "Basic Building Set",
         "1968",
         "366",
         "177"
        ],
        [
         "20",
         "044-1",
         "Basic Building Set",
         "1968",
         "366",
         "225"
        ],
        [
         "21",
         "055-2",
         "Basic Building Set",
         "1968",
         "366",
         "256"
        ],
        [
         "22",
         "066-1",
         "Basic Building Set",
         "1968",
         "366",
         "407"
        ],
        [
         "23",
         "080-1",
         "Basic Building Set with Train",
         "1967",
         "366",
         "710"
        ],
        [
         "24",
         "088-1",
         "Super Set",
         "1969",
         "469",
         "615"
        ],
        [
         "25",
         "10000-1",
         "Guarded Inn",
         "2001",
         "186",
         "256"
        ],
        [
         "26",
         "10001-1",
         "Metroliner",
         "2001",
         "233",
         "785"
        ],
        [
         "27",
         "10002-1",
         "Railroad Club Car",
         "2001",
         "233",
         "272"
        ],
        [
         "28",
         "10003-1",
         "1 x 2 Sand Red Bricks",
         "2001",
         "254",
         "100"
        ],
        [
         "29",
         "10004-1",
         "2 x 2 Sand Red Bricks",
         "2001",
         "254",
         "100"
        ],
        [
         "30",
         "10005-1",
         "2 x 4 Sand Red Bricks",
         "2001",
         "254",
         "50"
        ],
        [
         "31",
         "10006-1",
         "1 x 6 Sand Red Bricks",
         "2001",
         "254",
         "50"
        ],
        [
         "32",
         "10007-1",
         "2 x 4 Sand Red Ridge Roof Tiles Steep Slope",
         "2001",
         "254",
         "25"
        ],
        [
         "33",
         "10008-1",
         "2 x 4 Roof Tile Sand Red",
         "2001",
         "254",
         "50"
        ],
        [
         "34",
         "10009-1",
         "Assorted Blue Bricks",
         "2001",
         "254",
         "62"
        ],
        [
         "35",
         "100-1",
         "4.5V Motor with Wheels (Small Version)",
         "1966",
         "243",
         "16"
        ],
        [
         "36",
         "10010-1",
         "Assorted Yellow Bricks",
         "2003",
         "254",
         "63"
        ],
        [
         "37",
         "10011-1",
         "Assorted Blue Plates",
         "2001",
         "254",
         "42"
        ],
        [
         "38",
         "10012-1",
         "Assorted Yellow Plates",
         "2001",
         "254",
         "42"
        ],
        [
         "39",
         "10013-1",
         "Open Freight Wagon",
         "2001",
         "238",
         "121"
        ],
        [
         "40",
         "10014-1",
         "Caboose",
         "2001",
         "238",
         "170"
        ],
        [
         "41",
         "10015-1",
         "Passenger Wagon",
         "2001",
         "238",
         "194"
        ],
        [
         "42",
         "10016-1",
         "Tanker",
         "2001",
         "238",
         "128"
        ],
        [
         "43",
         "10017-1",
         "Hopper Wagon",
         "2001",
         "238",
         "228"
        ],
        [
         "44",
         "10018-1",
         "Darth Maul",
         "2001",
         "158",
         "1868"
        ],
        [
         "45",
         "10019-1",
         "Rebel Blockade Runner - UCS",
         "2001",
         "174",
         "1747"
        ],
        [
         "46",
         "100-2",
         "4.5V Motor with Wheels (Large Version)",
         "1966",
         "243",
         "27"
        ],
        [
         "47",
         "10020-1",
         "Santa Fe Super Chief, NOT the Limited Edition",
         "2002",
         "236",
         "427"
        ],
        [
         "48",
         "10020-2",
         "Santa Fe Super Chief, Limited Edition",
         "2002",
         "236",
         "433"
        ],
        [
         "49",
         "10021-1",
         "U.S.S. Constellation",
         "2003",
         "404",
         "974"
        ]
       ],
       "shape": {
        "columns": 5,
        "rows": 11673
       }
      },
      "text/html": [
       "<div>\n",
       "<style scoped>\n",
       "    .dataframe tbody tr th:only-of-type {\n",
       "        vertical-align: middle;\n",
       "    }\n",
       "\n",
       "    .dataframe tbody tr th {\n",
       "        vertical-align: top;\n",
       "    }\n",
       "\n",
       "    .dataframe thead th {\n",
       "        text-align: right;\n",
       "    }\n",
       "</style>\n",
       "<table border=\"1\" class=\"dataframe\">\n",
       "  <thead>\n",
       "    <tr style=\"text-align: right;\">\n",
       "      <th></th>\n",
       "      <th>set_num</th>\n",
       "      <th>name</th>\n",
       "      <th>year</th>\n",
       "      <th>theme_id</th>\n",
       "      <th>num_parts</th>\n",
       "    </tr>\n",
       "  </thead>\n",
       "  <tbody>\n",
       "    <tr>\n",
       "      <th>0</th>\n",
       "      <td>00-1</td>\n",
       "      <td>Weetabix Castle</td>\n",
       "      <td>1970</td>\n",
       "      <td>414</td>\n",
       "      <td>471</td>\n",
       "    </tr>\n",
       "    <tr>\n",
       "      <th>1</th>\n",
       "      <td>0011-2</td>\n",
       "      <td>Town Mini-Figures</td>\n",
       "      <td>1978</td>\n",
       "      <td>84</td>\n",
       "      <td>12</td>\n",
       "    </tr>\n",
       "    <tr>\n",
       "      <th>2</th>\n",
       "      <td>0011-3</td>\n",
       "      <td>Castle 2 for 1 Bonus Offer</td>\n",
       "      <td>1987</td>\n",
       "      <td>199</td>\n",
       "      <td>2</td>\n",
       "    </tr>\n",
       "    <tr>\n",
       "      <th>3</th>\n",
       "      <td>0012-1</td>\n",
       "      <td>Space Mini-Figures</td>\n",
       "      <td>1979</td>\n",
       "      <td>143</td>\n",
       "      <td>12</td>\n",
       "    </tr>\n",
       "    <tr>\n",
       "      <th>4</th>\n",
       "      <td>0013-1</td>\n",
       "      <td>Space Mini-Figures</td>\n",
       "      <td>1979</td>\n",
       "      <td>143</td>\n",
       "      <td>12</td>\n",
       "    </tr>\n",
       "    <tr>\n",
       "      <th>...</th>\n",
       "      <td>...</td>\n",
       "      <td>...</td>\n",
       "      <td>...</td>\n",
       "      <td>...</td>\n",
       "      <td>...</td>\n",
       "    </tr>\n",
       "    <tr>\n",
       "      <th>11668</th>\n",
       "      <td>Wauwatosa-1</td>\n",
       "      <td>LEGO Store Grand Opening Exclusive Set, Mayfai...</td>\n",
       "      <td>2012</td>\n",
       "      <td>408</td>\n",
       "      <td>15</td>\n",
       "    </tr>\n",
       "    <tr>\n",
       "      <th>11669</th>\n",
       "      <td>WHITEHOUSE-1</td>\n",
       "      <td>Micro White House</td>\n",
       "      <td>2015</td>\n",
       "      <td>598</td>\n",
       "      <td>59</td>\n",
       "    </tr>\n",
       "    <tr>\n",
       "      <th>11670</th>\n",
       "      <td>Wiesbaden-1</td>\n",
       "      <td>LEGO Store Grand Opening Exclusive Set, Wiesba...</td>\n",
       "      <td>2010</td>\n",
       "      <td>408</td>\n",
       "      <td>146</td>\n",
       "    </tr>\n",
       "    <tr>\n",
       "      <th>11671</th>\n",
       "      <td>WishingWell-1</td>\n",
       "      <td>Wishing Well [Toys R Us Promo]</td>\n",
       "      <td>2013</td>\n",
       "      <td>494</td>\n",
       "      <td>28</td>\n",
       "    </tr>\n",
       "    <tr>\n",
       "      <th>11672</th>\n",
       "      <td>wwgp1-1</td>\n",
       "      <td>Wild West Limited Edition Gift Pack</td>\n",
       "      <td>1996</td>\n",
       "      <td>476</td>\n",
       "      <td>3</td>\n",
       "    </tr>\n",
       "  </tbody>\n",
       "</table>\n",
       "<p>11673 rows × 5 columns</p>\n",
       "</div>"
      ],
      "text/plain": [
       "             set_num                                               name  year  \\\n",
       "0               00-1                                    Weetabix Castle  1970   \n",
       "1             0011-2                                  Town Mini-Figures  1978   \n",
       "2             0011-3                         Castle 2 for 1 Bonus Offer  1987   \n",
       "3             0012-1                                 Space Mini-Figures  1979   \n",
       "4             0013-1                                 Space Mini-Figures  1979   \n",
       "...              ...                                                ...   ...   \n",
       "11668    Wauwatosa-1  LEGO Store Grand Opening Exclusive Set, Mayfai...  2012   \n",
       "11669   WHITEHOUSE-1                                  Micro White House  2015   \n",
       "11670    Wiesbaden-1  LEGO Store Grand Opening Exclusive Set, Wiesba...  2010   \n",
       "11671  WishingWell-1                     Wishing Well [Toys R Us Promo]  2013   \n",
       "11672        wwgp1-1                Wild West Limited Edition Gift Pack  1996   \n",
       "\n",
       "       theme_id  num_parts  \n",
       "0           414        471  \n",
       "1            84         12  \n",
       "2           199          2  \n",
       "3           143         12  \n",
       "4           143         12  \n",
       "...         ...        ...  \n",
       "11668       408         15  \n",
       "11669       598         59  \n",
       "11670       408        146  \n",
       "11671       494         28  \n",
       "11672       476          3  \n",
       "\n",
       "[11673 rows x 5 columns]"
      ]
     },
     "execution_count": 19,
     "metadata": {},
     "output_type": "execute_result"
    }
   ],
   "source": [
    "sets"
   ]
  },
  {
   "cell_type": "code",
   "execution_count": 20,
   "metadata": {},
   "outputs": [
    {
     "data": {
      "application/vnd.microsoft.datawrangler.viewer.v0+json": {
       "columns": [
        {
         "name": "index",
         "rawType": "int64",
         "type": "integer"
        },
        {
         "name": "id",
         "rawType": "int64",
         "type": "integer"
        },
        {
         "name": "name",
         "rawType": "object",
         "type": "string"
        },
        {
         "name": "parent_id",
         "rawType": "float64",
         "type": "float"
        }
       ],
       "conversionMethod": "pd.DataFrame",
       "ref": "d1898f5a-a1fb-4947-a90e-c0c10502fdf3",
       "rows": [
        [
         "0",
         "1",
         "Technic",
         null
        ],
        [
         "1",
         "2",
         "Arctic Technic",
         "1.0"
        ],
        [
         "2",
         "3",
         "Competition",
         "1.0"
        ],
        [
         "3",
         "4",
         "Expert Builder",
         "1.0"
        ],
        [
         "4",
         "5",
         "Model",
         "1.0"
        ],
        [
         "5",
         "6",
         "Airport",
         "5.0"
        ],
        [
         "6",
         "7",
         "Construction",
         "5.0"
        ],
        [
         "7",
         "8",
         "Farm",
         "5.0"
        ],
        [
         "8",
         "9",
         "Fire",
         "5.0"
        ],
        [
         "9",
         "10",
         "Harbor",
         "5.0"
        ],
        [
         "10",
         "11",
         "Off-Road",
         "5.0"
        ],
        [
         "11",
         "12",
         "Race",
         "5.0"
        ],
        [
         "12",
         "13",
         "Riding Cycle",
         "5.0"
        ],
        [
         "13",
         "14",
         "Robot",
         "5.0"
        ],
        [
         "14",
         "15",
         "Traffic",
         "5.0"
        ],
        [
         "15",
         "16",
         "RoboRiders",
         "1.0"
        ],
        [
         "16",
         "17",
         "Speed Slammers",
         "1.0"
        ],
        [
         "17",
         "18",
         "Star Wars",
         "1.0"
        ],
        [
         "18",
         "19",
         "Supplemental",
         "1.0"
        ],
        [
         "19",
         "20",
         "Throwbot Slizer",
         "1.0"
        ],
        [
         "20",
         "21",
         "Universal Building Set",
         "1.0"
        ],
        [
         "21",
         "22",
         "Creator",
         null
        ],
        [
         "22",
         "23",
         "Basic Model",
         "22.0"
        ],
        [
         "23",
         "24",
         "Airport",
         "23.0"
        ],
        [
         "24",
         "25",
         "Castle",
         "23.0"
        ],
        [
         "25",
         "26",
         "Construction",
         "23.0"
        ],
        [
         "26",
         "27",
         "Race",
         "23.0"
        ],
        [
         "27",
         "28",
         "Harbor",
         "23.0"
        ],
        [
         "28",
         "29",
         "Train",
         "23.0"
        ],
        [
         "29",
         "30",
         "Traffic",
         "23.0"
        ],
        [
         "30",
         "31",
         "Creature",
         "23.0"
        ],
        [
         "31",
         "32",
         "Robot",
         "23.0"
        ],
        [
         "32",
         "33",
         "Food & Drink",
         "23.0"
        ],
        [
         "33",
         "34",
         "Building",
         "23.0"
        ],
        [
         "34",
         "35",
         "Cargo",
         "23.0"
        ],
        [
         "35",
         "36",
         "Fire",
         "23.0"
        ],
        [
         "36",
         "37",
         "Basic Set",
         "22.0"
        ],
        [
         "37",
         "38",
         "Model",
         "22.0"
        ],
        [
         "38",
         "39",
         "Traffic",
         "38.0"
        ],
        [
         "39",
         "40",
         "Creature",
         "38.0"
        ],
        [
         "40",
         "41",
         "Riding Cycle",
         "38.0"
        ],
        [
         "41",
         "42",
         "Airport",
         "38.0"
        ],
        [
         "42",
         "43",
         "Building",
         "38.0"
        ],
        [
         "43",
         "44",
         "Recreation",
         "38.0"
        ],
        [
         "44",
         "45",
         "Cargo",
         "38.0"
        ],
        [
         "45",
         "46",
         "Harbor",
         "38.0"
        ],
        [
         "46",
         "47",
         "Fire",
         "38.0"
        ],
        [
         "47",
         "48",
         "Supplemental",
         "22.0"
        ],
        [
         "48",
         "49",
         "Mecha",
         "22.0"
        ],
        [
         "49",
         "50",
         "Town",
         null
        ]
       ],
       "shape": {
        "columns": 3,
        "rows": 614
       }
      },
      "text/html": [
       "<div>\n",
       "<style scoped>\n",
       "    .dataframe tbody tr th:only-of-type {\n",
       "        vertical-align: middle;\n",
       "    }\n",
       "\n",
       "    .dataframe tbody tr th {\n",
       "        vertical-align: top;\n",
       "    }\n",
       "\n",
       "    .dataframe thead th {\n",
       "        text-align: right;\n",
       "    }\n",
       "</style>\n",
       "<table border=\"1\" class=\"dataframe\">\n",
       "  <thead>\n",
       "    <tr style=\"text-align: right;\">\n",
       "      <th></th>\n",
       "      <th>id</th>\n",
       "      <th>name</th>\n",
       "      <th>parent_id</th>\n",
       "    </tr>\n",
       "  </thead>\n",
       "  <tbody>\n",
       "    <tr>\n",
       "      <th>0</th>\n",
       "      <td>1</td>\n",
       "      <td>Technic</td>\n",
       "      <td>NaN</td>\n",
       "    </tr>\n",
       "    <tr>\n",
       "      <th>1</th>\n",
       "      <td>2</td>\n",
       "      <td>Arctic Technic</td>\n",
       "      <td>1.0</td>\n",
       "    </tr>\n",
       "    <tr>\n",
       "      <th>2</th>\n",
       "      <td>3</td>\n",
       "      <td>Competition</td>\n",
       "      <td>1.0</td>\n",
       "    </tr>\n",
       "    <tr>\n",
       "      <th>3</th>\n",
       "      <td>4</td>\n",
       "      <td>Expert Builder</td>\n",
       "      <td>1.0</td>\n",
       "    </tr>\n",
       "    <tr>\n",
       "      <th>4</th>\n",
       "      <td>5</td>\n",
       "      <td>Model</td>\n",
       "      <td>1.0</td>\n",
       "    </tr>\n",
       "    <tr>\n",
       "      <th>...</th>\n",
       "      <td>...</td>\n",
       "      <td>...</td>\n",
       "      <td>...</td>\n",
       "    </tr>\n",
       "    <tr>\n",
       "      <th>609</th>\n",
       "      <td>610</td>\n",
       "      <td>Brickheadz</td>\n",
       "      <td>NaN</td>\n",
       "    </tr>\n",
       "    <tr>\n",
       "      <th>610</th>\n",
       "      <td>611</td>\n",
       "      <td>Series 17 Minifigures</td>\n",
       "      <td>535.0</td>\n",
       "    </tr>\n",
       "    <tr>\n",
       "      <th>611</th>\n",
       "      <td>612</td>\n",
       "      <td>Star Wars Episode 8</td>\n",
       "      <td>158.0</td>\n",
       "    </tr>\n",
       "    <tr>\n",
       "      <th>612</th>\n",
       "      <td>613</td>\n",
       "      <td>Freemakers</td>\n",
       "      <td>158.0</td>\n",
       "    </tr>\n",
       "    <tr>\n",
       "      <th>613</th>\n",
       "      <td>614</td>\n",
       "      <td>Jungle</td>\n",
       "      <td>52.0</td>\n",
       "    </tr>\n",
       "  </tbody>\n",
       "</table>\n",
       "<p>614 rows × 3 columns</p>\n",
       "</div>"
      ],
      "text/plain": [
       "      id                   name  parent_id\n",
       "0      1                Technic        NaN\n",
       "1      2         Arctic Technic        1.0\n",
       "2      3            Competition        1.0\n",
       "3      4         Expert Builder        1.0\n",
       "4      5                  Model        1.0\n",
       "..   ...                    ...        ...\n",
       "609  610             Brickheadz        NaN\n",
       "610  611  Series 17 Minifigures      535.0\n",
       "611  612    Star Wars Episode 8      158.0\n",
       "612  613             Freemakers      158.0\n",
       "613  614                 Jungle       52.0\n",
       "\n",
       "[614 rows x 3 columns]"
      ]
     },
     "execution_count": 20,
     "metadata": {},
     "output_type": "execute_result"
    }
   ],
   "source": [
    "themes"
   ]
  },
  {
   "cell_type": "code",
   "execution_count": 10,
   "metadata": {},
   "outputs": [
    {
     "data": {
      "application/vnd.microsoft.datawrangler.viewer.v0+json": {
       "columns": [
        {
         "name": "index",
         "rawType": "int64",
         "type": "integer"
        },
        {
         "name": "id",
         "rawType": "int64",
         "type": "integer"
        },
        {
         "name": "name",
         "rawType": "object",
         "type": "string"
        },
        {
         "name": "rgb",
         "rawType": "object",
         "type": "string"
        },
        {
         "name": "is_trans",
         "rawType": "object",
         "type": "string"
        }
       ],
       "conversionMethod": "pd.DataFrame",
       "ref": "6dace85f-804c-4348-845a-72c6ca9aebcf",
       "rows": [
        [
         "0",
         "-1",
         "Unknown",
         "0033B2",
         "f"
        ],
        [
         "1",
         "0",
         "Black",
         "05131D",
         "f"
        ],
        [
         "2",
         "1",
         "Blue",
         "0055BF",
         "f"
        ],
        [
         "3",
         "2",
         "Green",
         "237841",
         "f"
        ],
        [
         "4",
         "3",
         "Dark Turquoise",
         "008F9B",
         "f"
        ],
        [
         "5",
         "4",
         "Red",
         "C91A09",
         "f"
        ],
        [
         "6",
         "5",
         "Dark Pink",
         "C870A0",
         "f"
        ],
        [
         "7",
         "6",
         "Brown",
         "583927",
         "f"
        ],
        [
         "8",
         "7",
         "Light Gray",
         "9BA19D",
         "f"
        ],
        [
         "9",
         "8",
         "Dark Gray",
         "6D6E5C",
         "f"
        ],
        [
         "10",
         "9",
         "Light Blue",
         "B4D2E3",
         "f"
        ],
        [
         "11",
         "10",
         "Bright Green",
         "4B9F4A",
         "f"
        ],
        [
         "12",
         "11",
         "Light Turquoise",
         "55A5AF",
         "f"
        ],
        [
         "13",
         "12",
         "Salmon",
         "F2705E",
         "f"
        ],
        [
         "14",
         "13",
         "Pink",
         "FC97AC",
         "f"
        ],
        [
         "15",
         "14",
         "Yellow",
         "F2CD37",
         "f"
        ],
        [
         "16",
         "15",
         "White",
         "FFFFFF",
         "f"
        ],
        [
         "17",
         "17",
         "Light Green",
         "C2DAB8",
         "f"
        ],
        [
         "18",
         "18",
         "Light Yellow",
         "FBE696",
         "f"
        ],
        [
         "19",
         "19",
         "Tan",
         "E4CD9E",
         "f"
        ],
        [
         "20",
         "20",
         "Light Violet",
         "C9CAE2",
         "f"
        ],
        [
         "21",
         "21",
         "Glow In Dark Opaque",
         "D4D5C9",
         "f"
        ],
        [
         "22",
         "22",
         "Purple",
         "81007B",
         "f"
        ],
        [
         "23",
         "23",
         "Dark Blue-Violet",
         "2032B0",
         "f"
        ],
        [
         "24",
         "25",
         "Orange",
         "FE8A18",
         "f"
        ],
        [
         "25",
         "26",
         "Magenta",
         "923978",
         "f"
        ],
        [
         "26",
         "27",
         "Lime",
         "BBE90B",
         "f"
        ],
        [
         "27",
         "28",
         "Dark Tan",
         "958A73",
         "f"
        ],
        [
         "28",
         "29",
         "Bright Pink",
         "E4ADC8",
         "f"
        ],
        [
         "29",
         "30",
         "Medium Lavender",
         "AC78BA",
         "f"
        ],
        [
         "30",
         "31",
         "Lavender",
         "E1D5ED",
         "f"
        ],
        [
         "31",
         "32",
         "Trans-Black IR Lens",
         "635F52",
         "t"
        ],
        [
         "32",
         "33",
         "Trans-Dark Blue",
         "0020A0",
         "t"
        ],
        [
         "33",
         "34",
         "Trans-Green",
         "84B68D",
         "t"
        ],
        [
         "34",
         "35",
         "Trans-Bright Green",
         "D9E4A7",
         "t"
        ],
        [
         "35",
         "36",
         "Trans-Red",
         "C91A09",
         "t"
        ],
        [
         "36",
         "40",
         "Trans-Black",
         "635F52",
         "t"
        ],
        [
         "37",
         "41",
         "Trans-Light Blue",
         "AEEFEC",
         "t"
        ],
        [
         "38",
         "42",
         "Trans-Neon Green",
         "F8F184",
         "t"
        ],
        [
         "39",
         "43",
         "Trans-Very Lt Blue",
         "C1DFF0",
         "t"
        ],
        [
         "40",
         "45",
         "Trans-Dark Pink",
         "DF6695",
         "t"
        ],
        [
         "41",
         "46",
         "Trans-Yellow",
         "F5CD2F",
         "t"
        ],
        [
         "42",
         "47",
         "Trans-Clear",
         "FCFCFC",
         "t"
        ],
        [
         "43",
         "52",
         "Trans-Purple",
         "A5A5CB",
         "t"
        ],
        [
         "44",
         "54",
         "Trans-Neon Yellow",
         "DAB000",
         "t"
        ],
        [
         "45",
         "57",
         "Trans-Neon Orange",
         "FF800D",
         "t"
        ],
        [
         "46",
         "60",
         "Chrome Antique Brass",
         "645A4C",
         "f"
        ],
        [
         "47",
         "61",
         "Chrome Blue",
         "6C96BF",
         "f"
        ],
        [
         "48",
         "62",
         "Chrome Green",
         "3CB371",
         "f"
        ],
        [
         "49",
         "63",
         "Chrome Pink",
         "AA4D8E",
         "f"
        ]
       ],
       "shape": {
        "columns": 4,
        "rows": 135
       }
      },
      "text/html": [
       "<div>\n",
       "<style scoped>\n",
       "    .dataframe tbody tr th:only-of-type {\n",
       "        vertical-align: middle;\n",
       "    }\n",
       "\n",
       "    .dataframe tbody tr th {\n",
       "        vertical-align: top;\n",
       "    }\n",
       "\n",
       "    .dataframe thead th {\n",
       "        text-align: right;\n",
       "    }\n",
       "</style>\n",
       "<table border=\"1\" class=\"dataframe\">\n",
       "  <thead>\n",
       "    <tr style=\"text-align: right;\">\n",
       "      <th></th>\n",
       "      <th>id</th>\n",
       "      <th>name</th>\n",
       "      <th>rgb</th>\n",
       "      <th>is_trans</th>\n",
       "    </tr>\n",
       "  </thead>\n",
       "  <tbody>\n",
       "    <tr>\n",
       "      <th>0</th>\n",
       "      <td>-1</td>\n",
       "      <td>Unknown</td>\n",
       "      <td>0033B2</td>\n",
       "      <td>f</td>\n",
       "    </tr>\n",
       "    <tr>\n",
       "      <th>1</th>\n",
       "      <td>0</td>\n",
       "      <td>Black</td>\n",
       "      <td>05131D</td>\n",
       "      <td>f</td>\n",
       "    </tr>\n",
       "    <tr>\n",
       "      <th>2</th>\n",
       "      <td>1</td>\n",
       "      <td>Blue</td>\n",
       "      <td>0055BF</td>\n",
       "      <td>f</td>\n",
       "    </tr>\n",
       "    <tr>\n",
       "      <th>3</th>\n",
       "      <td>2</td>\n",
       "      <td>Green</td>\n",
       "      <td>237841</td>\n",
       "      <td>f</td>\n",
       "    </tr>\n",
       "    <tr>\n",
       "      <th>4</th>\n",
       "      <td>3</td>\n",
       "      <td>Dark Turquoise</td>\n",
       "      <td>008F9B</td>\n",
       "      <td>f</td>\n",
       "    </tr>\n",
       "    <tr>\n",
       "      <th>...</th>\n",
       "      <td>...</td>\n",
       "      <td>...</td>\n",
       "      <td>...</td>\n",
       "      <td>...</td>\n",
       "    </tr>\n",
       "    <tr>\n",
       "      <th>130</th>\n",
       "      <td>1004</td>\n",
       "      <td>Trans Flame Yellowish Orange</td>\n",
       "      <td>FCB76D</td>\n",
       "      <td>t</td>\n",
       "    </tr>\n",
       "    <tr>\n",
       "      <th>131</th>\n",
       "      <td>1005</td>\n",
       "      <td>Trans Fire Yellow</td>\n",
       "      <td>FBE890</td>\n",
       "      <td>t</td>\n",
       "    </tr>\n",
       "    <tr>\n",
       "      <th>132</th>\n",
       "      <td>1006</td>\n",
       "      <td>Trans Light Royal Blue</td>\n",
       "      <td>B4D4F7</td>\n",
       "      <td>t</td>\n",
       "    </tr>\n",
       "    <tr>\n",
       "      <th>133</th>\n",
       "      <td>1007</td>\n",
       "      <td>Reddish Lilac</td>\n",
       "      <td>8E5597</td>\n",
       "      <td>f</td>\n",
       "    </tr>\n",
       "    <tr>\n",
       "      <th>134</th>\n",
       "      <td>9999</td>\n",
       "      <td>[No Color]</td>\n",
       "      <td>05131D</td>\n",
       "      <td>f</td>\n",
       "    </tr>\n",
       "  </tbody>\n",
       "</table>\n",
       "<p>135 rows × 4 columns</p>\n",
       "</div>"
      ],
      "text/plain": [
       "       id                          name     rgb is_trans\n",
       "0      -1                       Unknown  0033B2        f\n",
       "1       0                         Black  05131D        f\n",
       "2       1                          Blue  0055BF        f\n",
       "3       2                         Green  237841        f\n",
       "4       3                Dark Turquoise  008F9B        f\n",
       "..    ...                           ...     ...      ...\n",
       "130  1004  Trans Flame Yellowish Orange  FCB76D        t\n",
       "131  1005             Trans Fire Yellow  FBE890        t\n",
       "132  1006        Trans Light Royal Blue  B4D4F7        t\n",
       "133  1007                 Reddish Lilac  8E5597        f\n",
       "134  9999                    [No Color]  05131D        f\n",
       "\n",
       "[135 rows x 4 columns]"
      ]
     },
     "execution_count": 10,
     "metadata": {},
     "output_type": "execute_result"
    }
   ],
   "source": [
    "colors"
   ]
  },
  {
   "cell_type": "code",
   "execution_count": 11,
   "metadata": {},
   "outputs": [],
   "source": [
    "# Function to create a graph for a single set\n",
    "def create_set_graph(set_num, set_data):\n",
    "    G = nx.Graph()\n",
    "    \n",
    "    # Filter parts for the given set\n",
    "    set_parts_data = set_data[set_data['set_num'] == set_num]\n",
    "    \n",
    "    # Skip if no parts (empty set)\n",
    "    if set_parts_data.empty or set_parts_data['part_num'].isnull().all():\n",
    "        return None\n",
    "    \n",
    "    # Add nodes for each part with metadata\n",
    "    for _, row in set_parts_data.iterrows():\n",
    "        part_num = row['part_num']\n",
    "        G.add_node(part_num,\n",
    "                   name=row['name_part'],\n",
    "                   category=row['name_cat'],\n",
    "                   color=row['name'],  # Color name from colors table\n",
    "                   quantity=row['quantity'],\n",
    "                   is_spare=row['is_spare'])\n",
    "    \n",
    "    # Add edges between all pairs of parts, with weights based on shared attributes\n",
    "    part_list = set_parts_data[['part_num', 'name_cat', 'name']].drop_duplicates()\n",
    "    part_to_category = dict(zip(part_list['part_num'], part_list['name_cat']))\n",
    "    part_to_color = dict(zip(part_list['part_num'], part_list['name']))\n",
    "    \n",
    "    for part1, part2 in combinations(G.nodes, 2):\n",
    "        # Calculate edge weight based on shared attributes\n",
    "        weight = 0\n",
    "        if part_to_category.get(part1) == part_to_category.get(part2):\n",
    "            weight += 1  # Same category\n",
    "        if part_to_color.get(part1) == part_to_color.get(part2):\n",
    "            weight += 0.5  # Same color\n",
    "        G.add_edge(part1, part2, weight=max(weight, 0.1))  # Minimum weight for connectivity\n",
    "    \n",
    "    return G\n",
    "\n",
    "# Feature extraction for classification\n",
    "def extract_graph_features(G):\n",
    "    features = {\n",
    "        'num_parts': G.number_of_nodes(),\n",
    "        'num_edges': G.number_of_edges(),\n",
    "        'avg_degree': sum(dict(G.degree()).values()) / G.number_of_nodes() if G.number_of_nodes() > 0 else 0,\n",
    "        'density': nx.density(G),\n",
    "        'avg_edge_weight': sum(d['weight'] for _, _, d in G.edges(data=True)) / G.number_of_edges() if G.number_of_edges() > 0 else 0\n",
    "    }\n",
    "    return features"
   ]
  },
  {
   "cell_type": "code",
   "execution_count": 12,
   "metadata": {},
   "outputs": [
    {
     "data": {
      "image/png": "[encoded data removed]",
      "text/plain": [
       "<Figure size 800x600 with 1 Axes>"
      ]
     },
     "metadata": {},
     "output_type": "display_data"
    },
    {
     "name": "stdout",
     "output_type": "stream",
     "text": [
      "\n",
      "Set 00-1 Graph Metadata:\n",
      "Part 29c01: {'name': 'Window 1 x 1 x 2 with Glass', 'category': 'Windows and Doors', 'color': 'White', 'quantity': 6.0, 'is_spare': 'f'}\n",
      "Part 3001a: {'name': 'Brick 2 x 4 without Cross Supports', 'category': 'Bricks', 'color': 'Blue', 'quantity': 4.0, 'is_spare': 'f'}\n",
      "Part 3002a: {'name': 'Brick 2 x 3 without Cross Supports', 'category': 'Bricks', 'color': 'White', 'quantity': 16.0, 'is_spare': 'f'}\n",
      "Is graph for set 00-1 connected? True\n"
     ]
    },
    {
     "data": {
      "image/png": "[encoded data removed]",
      "text/plain": [
       "<Figure size 800x600 with 1 Axes>"
      ]
     },
     "metadata": {},
     "output_type": "display_data"
    },
    {
     "name": "stdout",
     "output_type": "stream",
     "text": [
      "\n",
      "Set 0011-2 Graph Metadata:\n",
      "Part 3624: {'name': 'Minifig Police Style Cap', 'category': 'Minifig Accessories', 'color': 'White', 'quantity': 1.0, 'is_spare': 'f'}\n",
      "Part 3625: {'name': 'Minifig Hair Female with Pigtails', 'category': 'Minifigs', 'color': 'Black', 'quantity': 1.0, 'is_spare': 'f'}\n",
      "Part 3626apr0001: {'name': 'Minifig Head Standard Grin Print [Solid Stud]', 'category': 'Minifigs', 'color': 'Yellow', 'quantity': 3.0, 'is_spare': 'f'}\n",
      "Is graph for set 0011-2 connected? True\n"
     ]
    },
    {
     "data": {
      "image/png": "[encoded data removed]",
      "text/plain": [
       "<Figure size 800x600 with 1 Axes>"
      ]
     },
     "metadata": {},
     "output_type": "display_data"
    },
    {
     "name": "stdout",
     "output_type": "stream",
     "text": [
      "\n",
      "Set 0012-1 Graph Metadata:\n",
      "Part 3626apr0001: {'name': 'Minifig Head Standard Grin Print [Solid Stud]', 'category': 'Minifigs', 'color': 'Yellow', 'quantity': 2.0, 'is_spare': 'f'}\n",
      "Part 3838: {'name': 'Minifig Airtanks', 'category': 'Minifig Accessories', 'color': 'Red', 'quantity': 2.0, 'is_spare': 'f'}\n",
      "Part 3842a: {'name': 'Minifig Helmet Classic with Thin Chin Guard and Visor Dimples', 'category': 'Minifig Accessories', 'color': 'Red', 'quantity': 2.0, 'is_spare': 'f'}\n",
      "Is graph for set 0012-1 connected? True\n"
     ]
    }
   ],
   "source": [
    "# Assuming datasets: sets, themes, inventories, inventory_parts, parts, part_categories, colors\n",
    "# Merge datasets to get set metadata\n",
    "sets_themes = sets.merge(themes, left_on='theme_id', right_on='id', suffixes=('_set', '_theme'))\n",
    "sets_themes = sets_themes.rename(columns={'id': 'theme_id_actual'})\n",
    "\n",
    "# Link inventories to sets (use latest version)\n",
    "inventories = inventories.sort_values('version').drop_duplicates('set_num', keep='last')\n",
    "sets_inventories = sets_themes.merge(inventories, on='set_num', how='left')\n",
    "\n",
    "# Merge with inventory_parts to get part details\n",
    "set_parts = sets_inventories.merge(inventory_parts, left_on='id', right_on='inventory_id', how='left')\n",
    "set_parts = set_parts.merge(parts, on='part_num', how='left')\n",
    "set_parts = set_parts.merge(part_categories, left_on='part_cat_id', right_on='id', suffixes=('_part', '_cat'))\n",
    "set_parts = set_parts.merge(colors, left_on='color_id', right_on='id', suffixes=('_part', '_color'))\n",
    "\n",
    "# Filter out sets with no part data\n",
    "valid_sets = set_parts[set_parts['part_num'].notnull()]['set_num'].unique()\n",
    "set_parts = set_parts[set_parts['set_num'].isin(valid_sets)]\n",
    "sets_inventories = sets_inventories[sets_inventories['set_num'].isin(valid_sets)]\n",
    "\n",
    "# Create and visualize graphs for a few valid sets\n",
    "sample_sets = sets_inventories['set_num'].head(3).tolist()\n",
    "for set_num in sample_sets:\n",
    "    set_graph = create_set_graph(set_num, set_parts)\n",
    "    \n",
    "    if set_graph is None:\n",
    "        print(f\"\\nSet {set_num} has no part data, skipping visualization.\")\n",
    "        continue\n",
    "    \n",
    "    # Visualize the graph\n",
    "    plt.figure(figsize=(8, 6))\n",
    "    pos = nx.spring_layout(set_graph, k=0.3, iterations=20)\n",
    "    \n",
    "    # Draw nodes (size based on part quantity)\n",
    "    node_sizes = [set_graph.nodes[part].get('quantity', 1) * 100 for part in set_graph.nodes]\n",
    "    nx.draw_networkx_nodes(set_graph, pos, node_size=node_sizes, node_color='lightgreen')\n",
    "    \n",
    "    # Draw edges (thicker for higher weights)\n",
    "    edge_weights = [set_graph[part1][part2]['weight'] for part1, part2 in set_graph.edges]\n",
    "    nx.draw_networkx_edges(set_graph, pos, width=[w * 2 for w in edge_weights], alpha=0.3)\n",
    "    \n",
    "    # Add labels for a few nodes\n",
    "    labels = {node: set_graph.nodes[node]['name'][:10] for node in list(set_graph.nodes)[:5]}\n",
    "    nx.draw_networkx_labels(set_graph, pos, labels, font_size=6)\n",
    "    \n",
    "    set_name = sets_inventories[sets_inventories['set_num'] == set_num]['name_set'].iloc[0]\n",
    "    plt.title(f\"Part Graph for LEGO Set {set_num}: {set_name}\")\n",
    "    plt.axis('off')\n",
    "    plt.show()\n",
    "    \n",
    "    # Print sample node metadata\n",
    "    print(f\"\\nSet {set_num} Graph Metadata:\")\n",
    "    for node in list(set_graph.nodes)[:3]:\n",
    "        print(f\"Part {node}: {set_graph.nodes[node]}\")\n",
    "    \n",
    "    # Check if graph is connected\n",
    "    is_connected = nx.is_connected(set_graph)\n",
    "    print(f\"Is graph for set {set_num} connected? {is_connected}\")"
   ]
  },
  {
   "cell_type": "code",
   "execution_count": 13,
   "metadata": {},
   "outputs": [
    {
     "name": "stdout",
     "output_type": "stream",
     "text": [
      "\n",
      "Sample Features for Classification:\n",
      "   num_parts  num_edges  avg_degree  density  avg_edge_weight set_num\n",
      "0         26        325        25.0      1.0         0.410769    00-1\n",
      "1          8         28         7.0      1.0         0.678571  0011-2\n",
      "2          6         15         5.0      1.0         0.633333  0012-1\n",
      "3          6         15         5.0      1.0         0.633333  0013-1\n",
      "4          6         15         5.0      1.0         0.753333  0014-1\n"
     ]
    }
   ],
   "source": [
    "# Extract features for all valid sets\n",
    "set_features = []\n",
    "set_graphs = []\n",
    "for set_num in valid_sets:\n",
    "    set_graph = create_set_graph(set_num, set_parts)\n",
    "    if set_graph is None:\n",
    "        continue\n",
    "    set_graphs.append(set_graph)\n",
    "    features = extract_graph_features(set_graph)\n",
    "    features['set_num'] = set_num\n",
    "    set_features.append(features)\n",
    "\n",
    "features_df = pd.DataFrame(set_features)\n",
    "print(\"\\nSample Features for Classification:\")\n",
    "print(features_df.head())"
   ]
  },
  {
   "cell_type": "code",
   "execution_count": 15,
   "metadata": {},
   "outputs": [
    {
     "data": {
      "text/plain": [
       "10713"
      ]
     },
     "execution_count": 15,
     "metadata": {},
     "output_type": "execute_result"
    }
   ],
   "source": [
    "len(set_graphs)"
   ]
  },
  {
   "cell_type": "code",
   "execution_count": 21,
   "metadata": {},
   "outputs": [],
   "source": [
    "def get_node2vec_embeddings(graph, dimensions=32, walk_length=30, num_walks=200, p=1, q=1):\n",
    "    if graph.number_of_nodes() == 0:\n",
    "        return {}\n",
    "    \n",
    "    try:\n",
    "        node2vec = Node2Vec(\n",
    "            graph,\n",
    "            dimensions=dimensions,\n",
    "            walk_length=walk_length,\n",
    "            num_walks=num_walks,\n",
    "            p=p,\n",
    "            q=q,\n",
    "            workers=1,\n",
    "            quiet=True\n",
    "        )\n",
    "        model = node2vec.fit(window=10, min_count=1, batch_words=4)\n",
    "        embeddings = {node: model.wv[str(node)] for node in graph.nodes}\n",
    "        return embeddings\n",
    "    except Exception as e:\n",
    "        print(f\"Error generating embeddings: {e}\")\n",
    "        return {}"
   ]
  },
  {
   "cell_type": "code",
   "execution_count": 24,
   "metadata": {},
   "outputs": [
    {
     "ename": "KeyboardInterrupt",
     "evalue": "",
     "output_type": "error",
     "traceback": [
      "\u001b[31m---------------------------------------------------------------------------\u001b[39m",
      "\u001b[31mKeyboardInterrupt\u001b[39m                         Traceback (most recent call last)",
      "\u001b[36mCell\u001b[39m\u001b[36m \u001b[39m\u001b[32mIn[24]\u001b[39m\u001b[32m, line 5\u001b[39m\n\u001b[32m      3\u001b[39m set_embeddings = []\n\u001b[32m      4\u001b[39m \u001b[38;5;28;01mfor\u001b[39;00m set_num, set_graph \u001b[38;5;129;01min\u001b[39;00m \u001b[38;5;28mzip\u001b[39m(valid_sets, set_graphs):\n\u001b[32m----> \u001b[39m\u001b[32m5\u001b[39m     embeddings = \u001b[43mget_node2vec_embeddings\u001b[49m\u001b[43m(\u001b[49m\u001b[43mset_graph\u001b[49m\u001b[43m,\u001b[49m\u001b[43m \u001b[49m\u001b[43mdimensions\u001b[49m\u001b[43m=\u001b[49m\u001b[43membedding_dim\u001b[49m\u001b[43m)\u001b[49m\n\u001b[32m      6\u001b[39m     \u001b[38;5;28;01mif\u001b[39;00m \u001b[38;5;129;01mnot\u001b[39;00m embeddings:\n\u001b[32m      7\u001b[39m         mean_embedding = np.zeros(embedding_dim)\n",
      "\u001b[36mCell\u001b[39m\u001b[36m \u001b[39m\u001b[32mIn[21]\u001b[39m\u001b[32m, line 16\u001b[39m, in \u001b[36mget_node2vec_embeddings\u001b[39m\u001b[34m(graph, dimensions, walk_length, num_walks, p, q)\u001b[39m\n\u001b[32m      5\u001b[39m \u001b[38;5;28;01mtry\u001b[39;00m:\n\u001b[32m      6\u001b[39m     node2vec = Node2Vec(\n\u001b[32m      7\u001b[39m         graph,\n\u001b[32m      8\u001b[39m         dimensions=dimensions,\n\u001b[32m   (...)\u001b[39m\u001b[32m     14\u001b[39m         quiet=\u001b[38;5;28;01mTrue\u001b[39;00m\n\u001b[32m     15\u001b[39m     )\n\u001b[32m---> \u001b[39m\u001b[32m16\u001b[39m     model = \u001b[43mnode2vec\u001b[49m\u001b[43m.\u001b[49m\u001b[43mfit\u001b[49m\u001b[43m(\u001b[49m\u001b[43mwindow\u001b[49m\u001b[43m=\u001b[49m\u001b[32;43m10\u001b[39;49m\u001b[43m,\u001b[49m\u001b[43m \u001b[49m\u001b[43mmin_count\u001b[49m\u001b[43m=\u001b[49m\u001b[32;43m1\u001b[39;49m\u001b[43m,\u001b[49m\u001b[43m \u001b[49m\u001b[43mbatch_words\u001b[49m\u001b[43m=\u001b[49m\u001b[32;43m4\u001b[39;49m\u001b[43m)\u001b[49m\n\u001b[32m     17\u001b[39m     embeddings = {node: model.wv[\u001b[38;5;28mstr\u001b[39m(node)] \u001b[38;5;28;01mfor\u001b[39;00m node \u001b[38;5;129;01min\u001b[39;00m graph.nodes}\n\u001b[32m     18\u001b[39m     \u001b[38;5;28;01mreturn\u001b[39;00m embeddings\n",
      "\u001b[36mFile \u001b[39m\u001b[32mc:\\Users\\sbrad\\miniconda3\\envs\\advace_data_mining\\Lib\\site-packages\\node2vec\\node2vec.py:198\u001b[39m, in \u001b[36mNode2Vec.fit\u001b[39m\u001b[34m(self, **skip_gram_params)\u001b[39m\n\u001b[32m    195\u001b[39m \u001b[38;5;28;01mif\u001b[39;00m \u001b[33m'\u001b[39m\u001b[33msg\u001b[39m\u001b[33m'\u001b[39m \u001b[38;5;129;01mnot\u001b[39;00m \u001b[38;5;129;01min\u001b[39;00m skip_gram_params:\n\u001b[32m    196\u001b[39m     skip_gram_params[\u001b[33m'\u001b[39m\u001b[33msg\u001b[39m\u001b[33m'\u001b[39m] = \u001b[32m1\u001b[39m\n\u001b[32m--> \u001b[39m\u001b[32m198\u001b[39m \u001b[38;5;28;01mreturn\u001b[39;00m \u001b[43mgensim\u001b[49m\u001b[43m.\u001b[49m\u001b[43mmodels\u001b[49m\u001b[43m.\u001b[49m\u001b[43mWord2Vec\u001b[49m\u001b[43m(\u001b[49m\u001b[38;5;28;43mself\u001b[39;49m\u001b[43m.\u001b[49m\u001b[43mwalks\u001b[49m\u001b[43m,\u001b[49m\u001b[43m \u001b[49m\u001b[43m*\u001b[49m\u001b[43m*\u001b[49m\u001b[43mskip_gram_params\u001b[49m\u001b[43m)\u001b[49m\n",
      "\u001b[36mFile \u001b[39m\u001b[32mc:\\Users\\sbrad\\miniconda3\\envs\\advace_data_mining\\Lib\\site-packages\\gensim\\models\\word2vec.py:430\u001b[39m, in \u001b[36mWord2Vec.__init__\u001b[39m\u001b[34m(self, sentences, corpus_file, vector_size, alpha, window, min_count, max_vocab_size, sample, seed, workers, min_alpha, sg, hs, negative, ns_exponent, cbow_mean, hashfxn, epochs, null_word, trim_rule, sorted_vocab, batch_words, compute_loss, callbacks, comment, max_final_vocab, shrink_windows)\u001b[39m\n\u001b[32m    428\u001b[39m     \u001b[38;5;28mself\u001b[39m._check_corpus_sanity(corpus_iterable=corpus_iterable, corpus_file=corpus_file, passes=(epochs + \u001b[32m1\u001b[39m))\n\u001b[32m    429\u001b[39m     \u001b[38;5;28mself\u001b[39m.build_vocab(corpus_iterable=corpus_iterable, corpus_file=corpus_file, trim_rule=trim_rule)\n\u001b[32m--> \u001b[39m\u001b[32m430\u001b[39m     \u001b[38;5;28;43mself\u001b[39;49m\u001b[43m.\u001b[49m\u001b[43mtrain\u001b[49m\u001b[43m(\u001b[49m\n\u001b[32m    431\u001b[39m \u001b[43m        \u001b[49m\u001b[43mcorpus_iterable\u001b[49m\u001b[43m=\u001b[49m\u001b[43mcorpus_iterable\u001b[49m\u001b[43m,\u001b[49m\u001b[43m \u001b[49m\u001b[43mcorpus_file\u001b[49m\u001b[43m=\u001b[49m\u001b[43mcorpus_file\u001b[49m\u001b[43m,\u001b[49m\u001b[43m \u001b[49m\u001b[43mtotal_examples\u001b[49m\u001b[43m=\u001b[49m\u001b[38;5;28;43mself\u001b[39;49m\u001b[43m.\u001b[49m\u001b[43mcorpus_count\u001b[49m\u001b[43m,\u001b[49m\n\u001b[32m    432\u001b[39m \u001b[43m        \u001b[49m\u001b[43mtotal_words\u001b[49m\u001b[43m=\u001b[49m\u001b[38;5;28;43mself\u001b[39;49m\u001b[43m.\u001b[49m\u001b[43mcorpus_total_words\u001b[49m\u001b[43m,\u001b[49m\u001b[43m \u001b[49m\u001b[43mepochs\u001b[49m\u001b[43m=\u001b[49m\u001b[38;5;28;43mself\u001b[39;49m\u001b[43m.\u001b[49m\u001b[43mepochs\u001b[49m\u001b[43m,\u001b[49m\u001b[43m \u001b[49m\u001b[43mstart_alpha\u001b[49m\u001b[43m=\u001b[49m\u001b[38;5;28;43mself\u001b[39;49m\u001b[43m.\u001b[49m\u001b[43malpha\u001b[49m\u001b[43m,\u001b[49m\n\u001b[32m    433\u001b[39m \u001b[43m        \u001b[49m\u001b[43mend_alpha\u001b[49m\u001b[43m=\u001b[49m\u001b[38;5;28;43mself\u001b[39;49m\u001b[43m.\u001b[49m\u001b[43mmin_alpha\u001b[49m\u001b[43m,\u001b[49m\u001b[43m \u001b[49m\u001b[43mcompute_loss\u001b[49m\u001b[43m=\u001b[49m\u001b[38;5;28;43mself\u001b[39;49m\u001b[43m.\u001b[49m\u001b[43mcompute_loss\u001b[49m\u001b[43m,\u001b[49m\u001b[43m \u001b[49m\u001b[43mcallbacks\u001b[49m\u001b[43m=\u001b[49m\u001b[43mcallbacks\u001b[49m\u001b[43m)\u001b[49m\n\u001b[32m    434\u001b[39m \u001b[38;5;28;01melse\u001b[39;00m:\n\u001b[32m    435\u001b[39m     \u001b[38;5;28;01mif\u001b[39;00m trim_rule \u001b[38;5;129;01mis\u001b[39;00m \u001b[38;5;129;01mnot\u001b[39;00m \u001b[38;5;28;01mNone\u001b[39;00m:\n",
      "\u001b[36mFile \u001b[39m\u001b[32mc:\\Users\\sbrad\\miniconda3\\envs\\advace_data_mining\\Lib\\site-packages\\gensim\\models\\word2vec.py:1073\u001b[39m, in \u001b[36mWord2Vec.train\u001b[39m\u001b[34m(self, corpus_iterable, corpus_file, total_examples, total_words, epochs, start_alpha, end_alpha, word_count, queue_factor, report_delay, compute_loss, callbacks, **kwargs)\u001b[39m\n\u001b[32m   1070\u001b[39m     callback.on_epoch_begin(\u001b[38;5;28mself\u001b[39m)\n\u001b[32m   1072\u001b[39m \u001b[38;5;28;01mif\u001b[39;00m corpus_iterable \u001b[38;5;129;01mis\u001b[39;00m \u001b[38;5;129;01mnot\u001b[39;00m \u001b[38;5;28;01mNone\u001b[39;00m:\n\u001b[32m-> \u001b[39m\u001b[32m1073\u001b[39m     trained_word_count_epoch, raw_word_count_epoch, job_tally_epoch = \u001b[38;5;28;43mself\u001b[39;49m\u001b[43m.\u001b[49m\u001b[43m_train_epoch\u001b[49m\u001b[43m(\u001b[49m\n\u001b[32m   1074\u001b[39m \u001b[43m        \u001b[49m\u001b[43mcorpus_iterable\u001b[49m\u001b[43m,\u001b[49m\u001b[43m \u001b[49m\u001b[43mcur_epoch\u001b[49m\u001b[43m=\u001b[49m\u001b[43mcur_epoch\u001b[49m\u001b[43m,\u001b[49m\u001b[43m \u001b[49m\u001b[43mtotal_examples\u001b[49m\u001b[43m=\u001b[49m\u001b[43mtotal_examples\u001b[49m\u001b[43m,\u001b[49m\n\u001b[32m   1075\u001b[39m \u001b[43m        \u001b[49m\u001b[43mtotal_words\u001b[49m\u001b[43m=\u001b[49m\u001b[43mtotal_words\u001b[49m\u001b[43m,\u001b[49m\u001b[43m \u001b[49m\u001b[43mqueue_factor\u001b[49m\u001b[43m=\u001b[49m\u001b[43mqueue_factor\u001b[49m\u001b[43m,\u001b[49m\u001b[43m \u001b[49m\u001b[43mreport_delay\u001b[49m\u001b[43m=\u001b[49m\u001b[43mreport_delay\u001b[49m\u001b[43m,\u001b[49m\n\u001b[32m   1076\u001b[39m \u001b[43m        \u001b[49m\u001b[43mcallbacks\u001b[49m\u001b[43m=\u001b[49m\u001b[43mcallbacks\u001b[49m\u001b[43m,\u001b[49m\u001b[43m \u001b[49m\u001b[43m*\u001b[49m\u001b[43m*\u001b[49m\u001b[43mkwargs\u001b[49m\u001b[43m)\u001b[49m\n\u001b[32m   1077\u001b[39m \u001b[38;5;28;01melse\u001b[39;00m:\n\u001b[32m   1078\u001b[39m     trained_word_count_epoch, raw_word_count_epoch, job_tally_epoch = \u001b[38;5;28mself\u001b[39m._train_epoch_corpusfile(\n\u001b[32m   1079\u001b[39m         corpus_file, cur_epoch=cur_epoch, total_examples=total_examples, total_words=total_words,\n\u001b[32m   1080\u001b[39m         callbacks=callbacks, **kwargs)\n",
      "\u001b[36mFile \u001b[39m\u001b[32mc:\\Users\\sbrad\\miniconda3\\envs\\advace_data_mining\\Lib\\site-packages\\gensim\\models\\word2vec.py:1434\u001b[39m, in \u001b[36mWord2Vec._train_epoch\u001b[39m\u001b[34m(self, data_iterable, cur_epoch, total_examples, total_words, queue_factor, report_delay, callbacks)\u001b[39m\n\u001b[32m   1431\u001b[39m     thread.daemon = \u001b[38;5;28;01mTrue\u001b[39;00m  \u001b[38;5;66;03m# make interrupting the process with ctrl+c easier\u001b[39;00m\n\u001b[32m   1432\u001b[39m     thread.start()\n\u001b[32m-> \u001b[39m\u001b[32m1434\u001b[39m trained_word_count, raw_word_count, job_tally = \u001b[38;5;28;43mself\u001b[39;49m\u001b[43m.\u001b[49m\u001b[43m_log_epoch_progress\u001b[49m\u001b[43m(\u001b[49m\n\u001b[32m   1435\u001b[39m \u001b[43m    \u001b[49m\u001b[43mprogress_queue\u001b[49m\u001b[43m,\u001b[49m\u001b[43m \u001b[49m\u001b[43mjob_queue\u001b[49m\u001b[43m,\u001b[49m\u001b[43m \u001b[49m\u001b[43mcur_epoch\u001b[49m\u001b[43m=\u001b[49m\u001b[43mcur_epoch\u001b[49m\u001b[43m,\u001b[49m\u001b[43m \u001b[49m\u001b[43mtotal_examples\u001b[49m\u001b[43m=\u001b[49m\u001b[43mtotal_examples\u001b[49m\u001b[43m,\u001b[49m\n\u001b[32m   1436\u001b[39m \u001b[43m    \u001b[49m\u001b[43mtotal_words\u001b[49m\u001b[43m=\u001b[49m\u001b[43mtotal_words\u001b[49m\u001b[43m,\u001b[49m\u001b[43m \u001b[49m\u001b[43mreport_delay\u001b[49m\u001b[43m=\u001b[49m\u001b[43mreport_delay\u001b[49m\u001b[43m,\u001b[49m\u001b[43m \u001b[49m\u001b[43mis_corpus_file_mode\u001b[49m\u001b[43m=\u001b[49m\u001b[38;5;28;43;01mFalse\u001b[39;49;00m\u001b[43m,\u001b[49m\n\u001b[32m   1437\u001b[39m \u001b[43m\u001b[49m\u001b[43m)\u001b[49m\n\u001b[32m   1439\u001b[39m \u001b[38;5;28;01mreturn\u001b[39;00m trained_word_count, raw_word_count, job_tally\n",
      "\u001b[36mFile \u001b[39m\u001b[32mc:\\Users\\sbrad\\miniconda3\\envs\\advace_data_mining\\Lib\\site-packages\\gensim\\models\\word2vec.py:1289\u001b[39m, in \u001b[36mWord2Vec._log_epoch_progress\u001b[39m\u001b[34m(self, progress_queue, job_queue, cur_epoch, total_examples, total_words, report_delay, is_corpus_file_mode)\u001b[39m\n\u001b[32m   1286\u001b[39m unfinished_worker_count = \u001b[38;5;28mself\u001b[39m.workers\n\u001b[32m   1288\u001b[39m \u001b[38;5;28;01mwhile\u001b[39;00m unfinished_worker_count > \u001b[32m0\u001b[39m:\n\u001b[32m-> \u001b[39m\u001b[32m1289\u001b[39m     report = \u001b[43mprogress_queue\u001b[49m\u001b[43m.\u001b[49m\u001b[43mget\u001b[49m\u001b[43m(\u001b[49m\u001b[43m)\u001b[49m  \u001b[38;5;66;03m# blocks if workers too slow\u001b[39;00m\n\u001b[32m   1290\u001b[39m     \u001b[38;5;28;01mif\u001b[39;00m report \u001b[38;5;129;01mis\u001b[39;00m \u001b[38;5;28;01mNone\u001b[39;00m:  \u001b[38;5;66;03m# a thread reporting that it finished\u001b[39;00m\n\u001b[32m   1291\u001b[39m         unfinished_worker_count -= \u001b[32m1\u001b[39m\n",
      "\u001b[36mFile \u001b[39m\u001b[32mc:\\Users\\sbrad\\miniconda3\\envs\\advace_data_mining\\Lib\\queue.py:171\u001b[39m, in \u001b[36mQueue.get\u001b[39m\u001b[34m(self, block, timeout)\u001b[39m\n\u001b[32m    169\u001b[39m \u001b[38;5;28;01melif\u001b[39;00m timeout \u001b[38;5;129;01mis\u001b[39;00m \u001b[38;5;28;01mNone\u001b[39;00m:\n\u001b[32m    170\u001b[39m     \u001b[38;5;28;01mwhile\u001b[39;00m \u001b[38;5;129;01mnot\u001b[39;00m \u001b[38;5;28mself\u001b[39m._qsize():\n\u001b[32m--> \u001b[39m\u001b[32m171\u001b[39m         \u001b[38;5;28;43mself\u001b[39;49m\u001b[43m.\u001b[49m\u001b[43mnot_empty\u001b[49m\u001b[43m.\u001b[49m\u001b[43mwait\u001b[49m\u001b[43m(\u001b[49m\u001b[43m)\u001b[49m\n\u001b[32m    172\u001b[39m \u001b[38;5;28;01melif\u001b[39;00m timeout < \u001b[32m0\u001b[39m:\n\u001b[32m    173\u001b[39m     \u001b[38;5;28;01mraise\u001b[39;00m \u001b[38;5;167;01mValueError\u001b[39;00m(\u001b[33m\"\u001b[39m\u001b[33m'\u001b[39m\u001b[33mtimeout\u001b[39m\u001b[33m'\u001b[39m\u001b[33m must be a non-negative number\u001b[39m\u001b[33m\"\u001b[39m)\n",
      "\u001b[36mFile \u001b[39m\u001b[32mc:\\Users\\sbrad\\miniconda3\\envs\\advace_data_mining\\Lib\\threading.py:355\u001b[39m, in \u001b[36mCondition.wait\u001b[39m\u001b[34m(self, timeout)\u001b[39m\n\u001b[32m    353\u001b[39m \u001b[38;5;28;01mtry\u001b[39;00m:    \u001b[38;5;66;03m# restore state no matter what (e.g., KeyboardInterrupt)\u001b[39;00m\n\u001b[32m    354\u001b[39m     \u001b[38;5;28;01mif\u001b[39;00m timeout \u001b[38;5;129;01mis\u001b[39;00m \u001b[38;5;28;01mNone\u001b[39;00m:\n\u001b[32m--> \u001b[39m\u001b[32m355\u001b[39m         \u001b[43mwaiter\u001b[49m\u001b[43m.\u001b[49m\u001b[43macquire\u001b[49m\u001b[43m(\u001b[49m\u001b[43m)\u001b[49m\n\u001b[32m    356\u001b[39m         gotit = \u001b[38;5;28;01mTrue\u001b[39;00m\n\u001b[32m    357\u001b[39m     \u001b[38;5;28;01melse\u001b[39;00m:\n",
      "\u001b[31mKeyboardInterrupt\u001b[39m: "
     ]
    }
   ],
   "source": [
    "# Step 3: Aggregate embeddings per set\n",
    "embedding_dim = 32\n",
    "set_embeddings = []\n",
    "for set_num, set_graph in zip(valid_sets, set_graphs):\n",
    "    embeddings = get_node2vec_embeddings(set_graph, dimensions=embedding_dim)\n",
    "    if not embeddings:\n",
    "        mean_embedding = np.zeros(embedding_dim)\n",
    "    else:\n",
    "        mean_embedding = np.mean([emb for emb in embeddings.values()], axis=0)\n",
    "    \n",
    "    embedding_record = {'set_num': set_num}\n",
    "    for i, val in enumerate(mean_embedding):\n",
    "        embedding_record[f'emb_{i}'] = val\n",
    "    set_embeddings.append(embedding_record)\n",
    "\n",
    "# Convert to DataFrame\n",
    "embeddings_df = pd.DataFrame(set_embeddings)\n",
    "\n",
    "# Step 4: Merge with features_df\n",
    "features_df = features_df.merge(embeddings_df, on='set_num', how='left')\n",
    "print(\"\\nUpdated Features with Node2Vec Embeddings:\")\n",
    "print(features_df.head())\n",
    "\n",
    "# Save for classification\n",
    "features_df.to_csv('lego_set_features_with_node2vec.csv', index=False)"
   ]
  }
 ],
 "metadata": {
  "kernelspec": {
   "display_name": "advace_data_mining",
   "language": "python",
   "name": "python3"
  },
  "language_info": {
   "codemirror_mode": {
    "name": "ipython",
    "version": 3
   },
   "file_extension": ".py",
   "mimetype": "text/x-python",
   "name": "python",
   "nbconvert_exporter": "python",
   "pygments_lexer": "ipython3",
   "version": "3.12.9"
  }
 },
 "nbformat": 4,
 "nbformat_minor": 2
}
