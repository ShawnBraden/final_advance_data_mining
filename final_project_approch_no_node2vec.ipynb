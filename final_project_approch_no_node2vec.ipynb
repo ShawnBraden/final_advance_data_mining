{
 "cells": [
  {
   "cell_type": "code",
   "execution_count": 16,
   "id": "548b4d35",
   "metadata": {},
   "outputs": [],
   "source": [
    "import networkx as nx\n",
    "import matplotlib.pyplot as plt\n",
    "import pandas as pd\n",
    "from itertools import combinations\n",
    "import numpy as np\n",
    "from node2vec import Node2Vec\n",
    "from community import community_louvain\n",
    "from sklearn.cluster import KMeans, SpectralClustering\n",
    "from sklearn.metrics import precision_score, recall_score, f1_score\n",
    "from collections import Counter"
   ]
  },
  {
   "cell_type": "code",
   "execution_count": 17,
   "id": "4191303a",
   "metadata": {},
   "outputs": [],
   "source": [
    "inventories = pd.read_csv('inventories.csv')\n",
    "inventory_parts = pd.read_csv('inventory_parts.csv')\n",
    "inventory_sets = pd.read_csv('inventory_sets.csv')\n",
    "part_categories = pd.read_csv('part_categories.csv')\n",
    "parts = pd.read_csv('parts.csv')\n",
    "sets = pd.read_csv('sets.csv')\n",
    "themes = pd.read_csv('themes.csv')\n",
    "colors = pd.read_csv('colors.csv')"
   ]
  },
  {
   "cell_type": "code",
   "execution_count": 18,
   "id": "99588c2d",
   "metadata": {},
   "outputs": [],
   "source": [
    "# Step 1: Data Preprocessing\n",
    "# Merge datasets to get set metadata\n",
    "sets_themes = sets.merge(themes, left_on='theme_id', right_on='id', suffixes=('_set', '_theme'))\n",
    "sets_themes = sets_themes.rename(columns={'id': 'theme_id_actual'})\n",
    "\n",
    "# Link inventories to sets (use latest version)\n",
    "inventories = inventories.sort_values('version').drop_duplicates('set_num', keep='last')\n",
    "sets_inventories = sets_themes.merge(inventories, on='set_num', how='left')\n",
    "\n",
    "# Merge with inventory_parts to get part details\n",
    "set_parts = sets_inventories.merge(inventory_parts, left_on='id', right_on='inventory_id', how='left')\n",
    "set_parts = set_parts.merge(parts, on='part_num', how='left')\n",
    "set_parts = set_parts.merge(part_categories, left_on='part_cat_id', right_on='id', suffixes=('_part', '_cat'))\n",
    "set_parts = set_parts.merge(colors, left_on='color_id', right_on='id', suffixes=('_part', '_color'))\n",
    "\n",
    "# Filter out sets with no part data\n",
    "valid_sets = set_parts[set_parts['part_num'].notnull()]['set_num'].unique()\n",
    "set_parts = set_parts[set_parts['set_num'].isin(valid_sets)]\n",
    "sets_inventories = sets_inventories[sets_inventories['set_num'].isin(valid_sets)]"
   ]
  },
  {
   "cell_type": "code",
   "execution_count": 19,
   "id": "d7a311eb",
   "metadata": {},
   "outputs": [],
   "source": [
    "# Step 2: Build Global Part Graph\n",
    "def build_part_graph(set_parts):\n",
    "    G = nx.Graph()\n",
    "    unique_parts = set_parts['part_num'].unique()\n",
    "    for part in unique_parts:\n",
    "        G.add_node(part)\n",
    "    \n",
    "    set_groups = set_parts.groupby('set_num')['part_num'].apply(list)\n",
    "    for parts in set_groups:\n",
    "        for part1, part2 in combinations(parts, 2):\n",
    "            if G.has_edge(part1, part2):\n",
    "                G[part1][part2]['weight'] += 1\n",
    "            else:\n",
    "                G.add_edge(part1, part2, weight=1)\n",
    "    \n",
    "    return G"
   ]
  },
  {
   "cell_type": "code",
   "execution_count": 20,
   "id": "358fe28a",
   "metadata": {},
   "outputs": [
    {
     "name": "stdout",
     "output_type": "stream",
     "text": [
      "\n",
      "Global Part Graph: 23113 nodes, 3821261 edges\n"
     ]
    }
   ],
   "source": [
    "part_graph = build_part_graph(set_parts)\n",
    "print(f\"\\nGlobal Part Graph: {part_graph.number_of_nodes()} nodes, {part_graph.number_of_edges()} edges\")\n"
   ]
  },
  {
   "cell_type": "code",
   "execution_count": 21,
   "id": "4512019e",
   "metadata": {},
   "outputs": [
    {
     "name": "stdout",
     "output_type": "stream",
     "text": [
      "\n",
      "Louvain Communities:\n",
      "  part_num  community\n",
      "0    29c01          0\n",
      "1    3001a          0\n",
      "2    3002a          0\n",
      "3     3003          0\n",
      "4     3004          0\n"
     ]
    }
   ],
   "source": [
    "# Louvain Community Detection\n",
    "partition = community_louvain.best_partition(part_graph, weight='weight')\n",
    "part_communities = pd.DataFrame({\n",
    "    'part_num': list(partition.keys()),\n",
    "    'community': list(partition.values())\n",
    "})\n",
    "print(\"\\nLouvain Communities:\")\n",
    "print(part_communities.head())"
   ]
  },
  {
   "cell_type": "code",
   "execution_count": 22,
   "id": "c2da6698",
   "metadata": {},
   "outputs": [
    {
     "data": {
      "text/html": [
       "<div>\n",
       "<style scoped>\n",
       "    .dataframe tbody tr th:only-of-type {\n",
       "        vertical-align: middle;\n",
       "    }\n",
       "\n",
       "    .dataframe tbody tr th {\n",
       "        vertical-align: top;\n",
       "    }\n",
       "\n",
       "    .dataframe thead th {\n",
       "        text-align: right;\n",
       "    }\n",
       "</style>\n",
       "<table border=\"1\" class=\"dataframe\">\n",
       "  <thead>\n",
       "    <tr style=\"text-align: right;\">\n",
       "      <th></th>\n",
       "      <th>part_num</th>\n",
       "      <th>community</th>\n",
       "    </tr>\n",
       "  </thead>\n",
       "  <tbody>\n",
       "    <tr>\n",
       "      <th>0</th>\n",
       "      <td>29c01</td>\n",
       "      <td>0</td>\n",
       "    </tr>\n",
       "    <tr>\n",
       "      <th>1</th>\n",
       "      <td>3001a</td>\n",
       "      <td>0</td>\n",
       "    </tr>\n",
       "    <tr>\n",
       "      <th>2</th>\n",
       "      <td>3002a</td>\n",
       "      <td>0</td>\n",
       "    </tr>\n",
       "    <tr>\n",
       "      <th>3</th>\n",
       "      <td>3003</td>\n",
       "      <td>0</td>\n",
       "    </tr>\n",
       "    <tr>\n",
       "      <th>4</th>\n",
       "      <td>3004</td>\n",
       "      <td>0</td>\n",
       "    </tr>\n",
       "    <tr>\n",
       "      <th>...</th>\n",
       "      <td>...</td>\n",
       "      <td>...</td>\n",
       "    </tr>\n",
       "    <tr>\n",
       "      <th>23108</th>\n",
       "      <td>973pb1122c01</td>\n",
       "      <td>0</td>\n",
       "    </tr>\n",
       "    <tr>\n",
       "      <th>23109</th>\n",
       "      <td>satchel4</td>\n",
       "      <td>293</td>\n",
       "    </tr>\n",
       "    <tr>\n",
       "      <th>23110</th>\n",
       "      <td>973pb1144c01</td>\n",
       "      <td>0</td>\n",
       "    </tr>\n",
       "    <tr>\n",
       "      <th>23111</th>\n",
       "      <td>973pb1145c01</td>\n",
       "      <td>0</td>\n",
       "    </tr>\n",
       "    <tr>\n",
       "      <th>23112</th>\n",
       "      <td>973pb1146c01</td>\n",
       "      <td>0</td>\n",
       "    </tr>\n",
       "  </tbody>\n",
       "</table>\n",
       "<p>23113 rows × 2 columns</p>\n",
       "</div>"
      ],
      "text/plain": [
       "           part_num  community\n",
       "0             29c01          0\n",
       "1             3001a          0\n",
       "2             3002a          0\n",
       "3              3003          0\n",
       "4              3004          0\n",
       "...             ...        ...\n",
       "23108  973pb1122c01          0\n",
       "23109      satchel4        293\n",
       "23110  973pb1144c01          0\n",
       "23111  973pb1145c01          0\n",
       "23112  973pb1146c01          0\n",
       "\n",
       "[23113 rows x 2 columns]"
      ]
     },
     "execution_count": 22,
     "metadata": {},
     "output_type": "execute_result"
    }
   ],
   "source": [
    "part_communities"
   ]
  },
  {
   "cell_type": "code",
   "execution_count": 23,
   "id": "3eca43c0",
   "metadata": {},
   "outputs": [
    {
     "name": "stderr",
     "output_type": "stream",
     "text": [
      "c:\\Users\\CSE_Sim\\anaconda3\\envs\\data_mining\\Lib\\site-packages\\sklearn\\manifold\\_spectral_embedding.py:329: UserWarning: Graph is not fully connected, spectral embedding may not work as expected.\n",
      "  warnings.warn(\n"
     ]
    },
    {
     "name": "stdout",
     "output_type": "stream",
     "text": [
      "\n",
      "Spectral Clusters:\n",
      "  part_num  spectral_cluster\n",
      "0    29c01                 0\n",
      "1    3001a                 0\n",
      "2    3002a                 0\n",
      "3     3003                 0\n",
      "4     3004                 0\n"
     ]
    }
   ],
   "source": [
    "part_nodes = list(part_graph.nodes)\n",
    "\n",
    "# Spectral Clustering\n",
    "n_clusters = 10\n",
    "spectral = SpectralClustering(n_clusters=n_clusters, affinity='precomputed', random_state=42)\n",
    "adj_matrix = nx.to_numpy_array(part_graph, weight='weight')\n",
    "spectral_labels = spectral.fit_predict(adj_matrix)\n",
    "spectral_communities = pd.DataFrame({\n",
    "    'part_num': part_nodes,\n",
    "    'spectral_cluster': spectral_labels\n",
    "})\n",
    "print(\"\\nSpectral Clusters:\")\n",
    "print(spectral_communities.head())"
   ]
  },
  {
   "cell_type": "code",
   "execution_count": 24,
   "id": "da601d67",
   "metadata": {},
   "outputs": [],
   "source": [
    "# Step 4: Predict Parts for a Theme\n",
    "def predict_parts_global(theme_id, set_parts, communities_df, method='louvain'):\n",
    "    theme_sets = sets[sets['theme_id'] == theme_id]['set_num']\n",
    "    theme_parts = set_parts[set_parts['set_num'].isin(theme_sets)]['part_num'].unique()\n",
    "    \n",
    "    community_col = 'community' if method == 'louvain' else 'kmeans_cluster' if method == 'kmeans' else 'spectral_cluster'\n",
    "    theme_communities = communities_df[communities_df['part_num'].isin(theme_parts)][community_col]\n",
    "    \n",
    "    top_communities = Counter(theme_communities).most_common(3)\n",
    "    top_community_ids = [comm for comm, _ in top_communities]\n",
    "    \n",
    "    predicted_parts = communities_df[communities_df[community_col].isin(top_community_ids)]['part_num'].tolist()\n",
    "    return predicted_parts\n",
    "\n",
    "# Step 5: Evaluate Predictions\n",
    "def evaluate_predictions(theme_id, set_parts, communities_df, method='louvain'):\n",
    "    theme_sets = sets[sets['theme_id'] == theme_id]['set_num']\n",
    "    true_parts = set_parts[set_parts['set_num'].isin(theme_sets)]['part_num'].unique()\n",
    "    predicted_parts = predict_parts_global(theme_id, set_parts, communities_df, method)\n",
    "    \n",
    "    all_parts = set_parts['part_num'].unique()\n",
    "    y_true = [1 if part in true_parts else 0 for part in all_parts]\n",
    "    y_pred = [1 if part in predicted_parts else 0 for part in all_parts]\n",
    "    \n",
    "    precision = precision_score(y_true, y_pred, zero_division=0)\n",
    "    recall = recall_score(y_true, y_pred, zero_division=0)\n",
    "    f1 = f1_score(y_true, y_pred, zero_division=0)\n",
    "    return {'precision': precision, 'recall': recall, 'f1': f1}\n",
    "\n",
    "# Baseline: Most frequent parts\n",
    "def baseline_predict(theme_id, set_parts, top_n=100):\n",
    "    theme_sets = sets[sets['theme_id'] == theme_id]['set_num']\n",
    "    theme_parts = set_parts[set_parts['set_num'].isin(theme_sets)]\n",
    "    top_parts = theme_parts['part_num'].value_counts().head(top_n).index.tolist()\n",
    "    return top_parts"
   ]
  },
  {
   "cell_type": "code",
   "execution_count": 25,
   "id": "bf4a1277",
   "metadata": {},
   "outputs": [],
   "source": [
    "def grade(theme_id, global_communities):\n",
    "    results = []\n",
    "\n",
    "    # Global Part Graph\n",
    "    \n",
    "    for method in ['louvain','spectral']:\n",
    "        if not global_communities[method].empty:\n",
    "            metrics = evaluate_predictions(theme_id, set_parts, global_communities[method], method)\n",
    "            results.append({\n",
    "                'Approach': 'Global',\n",
    "                'Method': method.capitalize(),\n",
    "                'Precision': metrics['precision'],\n",
    "                'Recall': metrics['recall'],\n",
    "                'F1': metrics['f1']\n",
    "            })\n",
    "\n",
    "    # Baseline\n",
    "    baseline_parts = baseline_predict(theme_id, set_parts)\n",
    "    y_true = [1 if part in set_parts[set_parts['set_num'].isin(sets[sets['theme_id'] == theme_id]['set_num'])]['part_num'].unique() else 0 for part in set_parts['part_num'].unique()]\n",
    "    y_pred_baseline = [1 if part in baseline_parts else 0 for part in set_parts['part_num'].unique()]\n",
    "    baseline_metrics = {\n",
    "        'precision': precision_score(y_true, y_pred_baseline, zero_division=0),\n",
    "        'recall': recall_score(y_true, y_pred_baseline, zero_division=0),\n",
    "        'f1': f1_score(y_true, y_pred_baseline, zero_division=0)\n",
    "    }\n",
    "    results.append({\n",
    "        'Approach': 'Baseline',\n",
    "        'Method': 'Most Frequent',\n",
    "        'Precision': baseline_metrics['precision'],\n",
    "        'Recall': baseline_metrics['recall'],\n",
    "        'F1': baseline_metrics['f1']\n",
    "    })\n",
    "\n",
    "    # Display results\n",
    "    results_df = pd.DataFrame(results)\n",
    "    print(\"\\nGlobal Approach Results:\")\n",
    "    print(results_df.to_string(index=False, float_format=\"{:.3f}\".format))"
   ]
  },
  {
   "cell_type": "code",
   "execution_count": 26,
   "id": "b81ea6a2",
   "metadata": {},
   "outputs": [
    {
     "name": "stdout",
     "output_type": "stream",
     "text": [
      "\n",
      "Global Approach Results:\n",
      "Approach        Method  Precision  Recall    F1\n",
      "  Global       Louvain      0.043   0.999 0.082\n",
      "  Global      Spectral      0.037   1.000 0.071\n",
      "Baseline Most Frequent      1.000   0.118 0.212\n"
     ]
    }
   ],
   "source": [
    "global_communities = {\n",
    "        'louvain': part_communities,\n",
    "        'spectral': spectral_communities\n",
    "    }\n",
    "\n",
    "grade(1, global_communities)\n",
    "\n"
   ]
  },
  {
   "cell_type": "code",
   "execution_count": 27,
   "id": "3bc01438",
   "metadata": {},
   "outputs": [
    {
     "name": "stderr",
     "output_type": "stream",
     "text": [
      "c:\\Users\\CSE_Sim\\anaconda3\\envs\\data_mining\\Lib\\site-packages\\sklearn\\manifold\\_spectral_embedding.py:329: UserWarning: Graph is not fully connected, spectral embedding may not work as expected.\n",
      "  warnings.warn(\n"
     ]
    },
    {
     "name": "stdout",
     "output_type": "stream",
     "text": [
      "\n",
      "Spectral Clusters:\n",
      "  part_num  spectral_cluster\n",
      "0    29c01                 0\n",
      "1    3001a                 0\n",
      "2    3002a                 0\n",
      "3     3003                 0\n",
      "4     3004                 0\n"
     ]
    }
   ],
   "source": [
    "# Spectral Clustering\n",
    "n_clusters = 20\n",
    "spectral = SpectralClustering(n_clusters=n_clusters, affinity='precomputed', random_state=42)\n",
    "adj_matrix = nx.to_numpy_array(part_graph, weight='weight')\n",
    "spectral_labels = spectral.fit_predict(adj_matrix)\n",
    "spectral_communities = pd.DataFrame({\n",
    "    'part_num': part_nodes,\n",
    "    'spectral_cluster': spectral_labels\n",
    "})\n",
    "print(\"\\nSpectral Clusters:\")\n",
    "print(spectral_communities.head())"
   ]
  },
  {
   "cell_type": "code",
   "execution_count": 28,
   "id": "4d26a5d8",
   "metadata": {},
   "outputs": [
    {
     "name": "stdout",
     "output_type": "stream",
     "text": [
      "\n",
      "Louvain Communities:\n",
      "  part_num  community\n",
      "0    29c01         75\n",
      "1    3001a         75\n",
      "2    3002a         75\n",
      "3     3003         75\n",
      "4     3004         75\n"
     ]
    }
   ],
   "source": [
    "partition = community_louvain.best_partition(part_graph, weight='weight', resolution=1.5)\n",
    "part_communities = pd.DataFrame({\n",
    "    'part_num': list(partition.keys()),\n",
    "    'community': list(partition.values())\n",
    "})\n",
    "print(\"\\nLouvain Communities:\")\n",
    "print(part_communities.head())"
   ]
  },
  {
   "cell_type": "code",
   "execution_count": 29,
   "id": "33f74828",
   "metadata": {},
   "outputs": [
    {
     "name": "stdout",
     "output_type": "stream",
     "text": [
      "\n",
      "Global Approach Results:\n",
      "Approach        Method  Precision  Recall    F1\n",
      "  Global       Louvain      0.043   0.999 0.082\n",
      "  Global      Spectral      0.037   1.000 0.071\n",
      "Baseline Most Frequent      1.000   0.118 0.212\n"
     ]
    }
   ],
   "source": [
    "grade(1, global_communities)"
   ]
  },
  {
   "cell_type": "code",
   "execution_count": 30,
   "id": "689fc890",
   "metadata": {},
   "outputs": [
    {
     "name": "stdout",
     "output_type": "stream",
     "text": [
      "\n",
      "Global Approach Results:\n",
      "Approach        Method  Precision  Recall    F1\n",
      "  Global       Louvain      0.000   0.000 0.000\n",
      "  Global      Spectral      0.000   0.000 0.000\n",
      "Baseline Most Frequent      0.000   0.000 0.000\n",
      "\n",
      "Global Approach Results:\n",
      "Approach        Method  Precision  Recall    F1\n",
      "  Global       Louvain      0.043   0.999 0.082\n",
      "  Global      Spectral      0.037   1.000 0.071\n",
      "Baseline Most Frequent      1.000   0.118 0.212\n",
      "\n",
      "Global Approach Results:\n",
      "Approach        Method  Precision  Recall    F1\n",
      "  Global       Louvain      0.006   1.000 0.013\n",
      "  Global      Spectral      0.005   1.000 0.011\n",
      "Baseline Most Frequent      1.000   0.806 0.893\n",
      "\n",
      "Global Approach Results:\n",
      "Approach        Method  Precision  Recall    F1\n",
      "  Global       Louvain      0.012   1.000 0.024\n",
      "  Global      Spectral      0.011   1.000 0.021\n",
      "Baseline Most Frequent      1.000   0.412 0.583\n",
      "\n",
      "Global Approach Results:\n",
      "Approach        Method  Precision  Recall    F1\n",
      "  Global       Louvain      0.008   1.000 0.016\n",
      "  Global      Spectral      0.007   1.000 0.013\n",
      "Baseline Most Frequent      1.000   0.645 0.784\n",
      "\n",
      "Global Approach Results:\n",
      "Approach        Method  Precision  Recall    F1\n",
      "  Global       Louvain      0.013   1.000 0.026\n",
      "  Global      Spectral      0.011   1.000 0.023\n",
      "Baseline Most Frequent      1.000   0.382 0.552\n",
      "\n",
      "Global Approach Results:\n",
      "Approach        Method  Precision  Recall    F1\n",
      "  Global       Louvain      0.019   1.000 0.038\n",
      "  Global      Spectral      0.016   1.000 0.032\n",
      "Baseline Most Frequent      1.000   0.265 0.418\n",
      "\n",
      "Global Approach Results:\n",
      "Approach        Method  Precision  Recall    F1\n",
      "  Global       Louvain      0.032   1.000 0.061\n",
      "  Global      Spectral      0.027   1.000 0.053\n",
      "Baseline Most Frequent      1.000   0.161 0.277\n",
      "\n",
      "Global Approach Results:\n",
      "Approach        Method  Precision  Recall    F1\n",
      "  Global       Louvain      0.012   1.000 0.023\n",
      "  Global      Spectral      0.010   1.000 0.020\n",
      "Baseline Most Frequent      1.000   0.441 0.612\n",
      "\n",
      "Global Approach Results:\n",
      "Approach        Method  Precision  Recall    F1\n",
      "  Global       Louvain      0.012   1.000 0.024\n",
      "  Global      Spectral      0.010   1.000 0.021\n",
      "Baseline Most Frequent      1.000   0.417 0.588\n"
     ]
    }
   ],
   "source": [
    "for i in range(10):\n",
    "    grade(i, global_communities)\n"
   ]
  }
 ],
 "metadata": {
  "kernelspec": {
   "display_name": "data_mining",
   "language": "python",
   "name": "python3"
  },
  "language_info": {
   "codemirror_mode": {
    "name": "ipython",
    "version": 3
   },
   "file_extension": ".py",
   "mimetype": "text/x-python",
   "name": "python",
   "nbconvert_exporter": "python",
   "pygments_lexer": "ipython3",
   "version": "3.12.9"
  }
 },
 "nbformat": 4,
 "nbformat_minor": 5
}
